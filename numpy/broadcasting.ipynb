{
 "metadata": {
  "language_info": {
   "codemirror_mode": {
    "name": "ipython",
    "version": 3
   },
   "file_extension": ".py",
   "mimetype": "text/x-python",
   "name": "python",
   "nbconvert_exporter": "python",
   "pygments_lexer": "ipython3",
   "version": "3.9.1"
  },
  "orig_nbformat": 2,
  "kernelspec": {
   "name": "python3",
   "display_name": "Python 3.9.1 64-bit",
   "metadata": {
    "interpreter": {
     "hash": "e7f04c2f23573a1b4b7569d608804e4fe639f50a08b8e6ae5050edd4b669aea8"
    }
   }
  }
 },
 "nbformat": 4,
 "nbformat_minor": 2,
 "cells": [
  {
   "source": [
    "# Broadcasting\n",
    "\n",
    "The simplest broadcasting example occurs when an **array** and a **scalar** value are combined in an operation."
   ],
   "cell_type": "markdown",
   "metadata": {}
  },
  {
   "cell_type": "code",
   "execution_count": 3,
   "metadata": {},
   "outputs": [],
   "source": [
    "import numpy as np"
   ]
  },
  {
   "cell_type": "code",
   "execution_count": 5,
   "metadata": {},
   "outputs": [
    {
     "output_type": "execute_result",
     "data": {
      "text/plain": [
       "array([3, 6, 9])"
      ]
     },
     "metadata": {},
     "execution_count": 5
    }
   ],
   "source": [
    "a = np.array([1, 2, 3])\n",
    "a * 3"
   ]
  },
  {
   "source": [
    "## General Broadcasting Rules\n",
    "\n",
    "When operating on two arrays, numpy will compare two arrays from the last dimension. If the dimensions of two arrays **are equal** or **one of them is 1**, then the `broadcasting` will be performed. Otherwise, a `ValueError` will occur.\n",
    "\n",
    "For example, we can update the image's RGB values (red, green, blue) separately by multiplying the image by a one-dimensional array with 3 values.\n",
    "\n",
    "``` python\n",
    "Image  (3d array): 256 x 256 x 3\n",
    "Scale  (1d array):             3\n",
    "Result (3d array): 256 x 256 x 3\n",
    "```\n",
    "\n",
    "When either of the dimensions compared is one, the other is used. In other words, dimensions with size 1 are stretched or “copied” to match the other, the axes with length 1 are expanded to the size of the larger one. \n",
    "\n",
    "``` python\n",
    "A      (4d array):  8 x 1 x 6 x 1\n",
    "B      (3d array):      7 x 1 x 5\n",
    "Result (4d array):  8 x 7 x 6 x 5\n",
    "\n",
    "A      (3d array):  15 x 3 x 5\n",
    "B      (3d array):  15 x 1 x 5\n",
    "Result (3d array):  15 x 3 x 5\n",
    "\n",
    "A      (3d array):  15 x 3 x 5\n",
    "B      (2d array):       3 x 5\n",
    "Result (3d array):  15 x 3 x 5\n",
    "\n",
    "A      (3d array):  15 x 3 x 5\n",
    "B      (2d array):       3 x 1\n",
    "Result (3d array):  15 x 3 x 5\n",
    "```\n",
    "\n"
   ],
   "cell_type": "markdown",
   "metadata": {}
  },
  {
   "cell_type": "code",
   "execution_count": 43,
   "metadata": {},
   "outputs": [
    {
     "output_type": "stream",
     "name": "stdout",
     "text": [
      "a: [[ 0  1  2  3  4]\n [ 5  6  7  8  9]\n [10 11 12 13 14]]\n\nb: [[0 1 2 3 4]]\n\n[[ 0  2  4  6  8]\n [ 5  7  9 11 13]\n [10 12 14 16 18]]\n(3, 5)\n\n[[ 0  1  4  9 16]\n [ 0  6 14 24 36]\n [ 0 11 24 39 56]]\n(3, 5)\n"
     ]
    }
   ],
   "source": [
    "a=np.arange(15).reshape(3, 5)\n",
    "b=np.arange(5).reshape(1, 5)\n",
    "\n",
    "print(\"a:\", a)\n",
    "print()\n",
    "print(\"b:\", b)\n",
    "print()\n",
    "print(a+b)\n",
    "print((a+b).shape)\n",
    "print()\n",
    "print((a*b))\n",
    "print((a*b).shape)"
   ]
  },
  {
   "source": [
    "## Outer Operation\n",
    "\n",
    "Broadcasting provides a convenient way of taking the outer product (or any other outer operation) of two arrays. The following example shows an outer addition operation of two 1-d arrays:"
   ],
   "cell_type": "markdown",
   "metadata": {}
  },
  {
   "cell_type": "code",
   "execution_count": 44,
   "metadata": {},
   "outputs": [
    {
     "output_type": "stream",
     "name": "stdout",
     "text": [
      "(4, 1)\n[[0]\n [1]\n [2]\n [3]]\n"
     ]
    }
   ],
   "source": [
    "a = np.arange(4)[:, np.newaxis]\n",
    "print(a.shape)\n",
    "print(a)"
   ]
  },
  {
   "cell_type": "code",
   "execution_count": 45,
   "metadata": {},
   "outputs": [
    {
     "output_type": "stream",
     "name": "stdout",
     "text": [
      "(3,)\n[0 1 2]\n"
     ]
    }
   ],
   "source": [
    "b = np.arange(3)\n",
    "print(b.shape)\n",
    "print(b)"
   ]
  },
  {
   "cell_type": "code",
   "execution_count": 46,
   "metadata": {},
   "outputs": [
    {
     "output_type": "stream",
     "name": "stdout",
     "text": [
      "(4, 3)\n[[0 1 2]\n [1 2 3]\n [2 3 4]\n [3 4 5]]\n"
     ]
    }
   ],
   "source": [
    "print((a + b).shape)\n",
    "print(a + b)"
   ]
  },
  {
   "source": [
    "# Reference\n",
    "\n",
    "- https://numpy.org/doc/stable/user/quickstart.html#broadcasting-rules\n",
    "- https://numpy.org/doc/stable/user/basics.broadcasting.html"
   ],
   "cell_type": "markdown",
   "metadata": {}
  }
 ]
}