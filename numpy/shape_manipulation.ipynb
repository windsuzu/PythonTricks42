{
 "metadata": {
  "language_info": {
   "codemirror_mode": {
    "name": "ipython",
    "version": 3
   },
   "file_extension": ".py",
   "mimetype": "text/x-python",
   "name": "python",
   "nbconvert_exporter": "python",
   "pygments_lexer": "ipython3",
   "version": "3.9.1"
  },
  "orig_nbformat": 2,
  "kernelspec": {
   "name": "python3",
   "display_name": "Python 3",
   "language": "python"
  }
 },
 "nbformat": 4,
 "nbformat_minor": 2,
 "cells": [
  {
   "source": [
    "# Shape Manipulation"
   ],
   "cell_type": "markdown",
   "metadata": {}
  },
  {
   "cell_type": "code",
   "execution_count": 2,
   "metadata": {},
   "outputs": [],
   "source": [
    "import numpy as np"
   ]
  },
  {
   "source": [
    "## Shape checking\n",
    "\n",
    "Before we learn how to control the shapes of arrays, we need to know how to find the shape of arrays. There are three properties from a numpy array that can be used to find the shape, dimension, and the total number of elements.\n",
    "\n",
    "- `ndim` will tell you the number of dimensions of the array\n",
    "- `size` will tell you the total number of elements of the array\n",
    "- `shape` will tell you the complete shape of the array from a tuple of integers\n",
    "\n"
   ],
   "cell_type": "markdown",
   "metadata": {}
  },
  {
   "cell_type": "code",
   "execution_count": 15,
   "metadata": {},
   "outputs": [
    {
     "output_type": "execute_result",
     "data": {
      "text/plain": [
       "array([[[1, 2, 3],\n",
       "        [4, 5, 6]],\n",
       "\n",
       "       [[4, 6, 8],\n",
       "        [2, 1, 6]]])"
      ]
     },
     "metadata": {},
     "execution_count": 15
    }
   ],
   "source": [
    "A = np.array([[[1, 2, 3], [4, 5, 6]], [[4, 6, 8], [2, 1, 6]]])\n",
    "A"
   ]
  },
  {
   "cell_type": "code",
   "execution_count": 18,
   "metadata": {},
   "outputs": [
    {
     "output_type": "stream",
     "name": "stdout",
     "text": [
      "(2, 2, 3)\n12\n3\n"
     ]
    }
   ],
   "source": [
    "print(A.shape)\n",
    "print(A.size)\n",
    "print(A.ndim)"
   ]
  },
  {
   "source": [
    "## Reshape\n",
    "\n",
    "We can use `reshape` to change the shape of arrays without changing the data, but the array you want to produce needs to have the **same number of elements** as the original array. E.g.\n",
    "\n",
    "- (6) -> (2, 3) -> (1, 2, 3)\n",
    "- (2, 2, 2, 2) -> (4, 2, 2) -> (4, 4) -> (16)"
   ],
   "cell_type": "markdown",
   "metadata": {}
  },
  {
   "cell_type": "code",
   "execution_count": 32,
   "metadata": {},
   "outputs": [
    {
     "output_type": "stream",
     "name": "stdout",
     "text": [
      "(6,)\n[0 1 2 3 4 5] \n\n(2, 3)\n[[0 1 2]\n [3 4 5]] \n\n(1, 3, 1, 2)\n[[[[0 1]]\n\n  [[2 3]]\n\n  [[4 5]]]] \n\n"
     ]
    }
   ],
   "source": [
    "A = np.arange(6)\n",
    "print(A.shape)\n",
    "print(A, \"\\n\")\n",
    "\n",
    "A = A.reshape(2, 3)\n",
    "print(A.shape)\n",
    "print(A, \"\\n\")\n",
    "\n",
    "A = A.reshape(1, 3, 1, 2)\n",
    "print(A.shape)\n",
    "print(A, \"\\n\")"
   ]
  },
  {
   "source": [
    "## Expand Dimension\n",
    "\n",
    "There are two ways to expand (or insert) a new dimension into our original arrays.\n",
    "\n",
    "- You can use `np.newaxis` to add a new axis, and the `np.newaxis` is identical to `None`, but with a more specific meaning\n",
    "- You can expand an array by inserting a new axis at a specified position with `np.expand_dims()`"
   ],
   "cell_type": "markdown",
   "metadata": {}
  },
  {
   "cell_type": "code",
   "execution_count": 59,
   "metadata": {},
   "outputs": [
    {
     "output_type": "stream",
     "name": "stdout",
     "text": [
      "(5,)\n(5, 1)\n(5, 1)\n(5, 1, 1)\n"
     ]
    },
    {
     "output_type": "execute_result",
     "data": {
      "text/plain": [
       "array([[[0]],\n",
       "\n",
       "       [[1]],\n",
       "\n",
       "       [[2]],\n",
       "\n",
       "       [[3]],\n",
       "\n",
       "       [[4]]])"
      ]
     },
     "metadata": {},
     "execution_count": 59
    }
   ],
   "source": [
    "A = np.arange(5)\n",
    "print(A.shape)\n",
    "\n",
    "print(A[..., None].shape)\n",
    "print(A[..., np.newaxis].shape)\n",
    "print(A[:, np.newaxis, np.newaxis].shape)\n",
    "A[:, np.newaxis, np.newaxis]"
   ]
  },
  {
   "cell_type": "code",
   "execution_count": 60,
   "metadata": {},
   "outputs": [
    {
     "output_type": "stream",
     "name": "stdout",
     "text": [
      "(1, 5)\n(5, 1)\n"
     ]
    }
   ],
   "source": [
    "A = np.arange(5)\n",
    "\n",
    "print(np.expand_dims(A, axis=0).shape)\n",
    "print(np.expand_dims(A, axis=1).shape)"
   ]
  },
  {
   "source": [
    "## Flatten\n",
    "\n",
    "- `array.ravel()`\n",
    "- `array.flatten()` \n",
    "- `array.reshape(-1)` \n",
    "\n",
    "> Reference: [What is the difference between flatten and ravel functions in numpy?](https://stackoverflow.com/questions/28930465/what-is-the-difference-between-flatten-and-ravel-functions-in-numpy)"
   ],
   "cell_type": "markdown",
   "metadata": {}
  },
  {
   "cell_type": "code",
   "execution_count": 81,
   "metadata": {},
   "outputs": [
    {
     "output_type": "stream",
     "name": "stdout",
     "text": [
      "[[[[0 1 2]]\n\n  [[3 4 5]]]]\n[0 1 2 3 4 5]\n[0 1 2 3 4 5]\n[0 1 2 3 4 5]\n"
     ]
    }
   ],
   "source": [
    "A = np.arange(6).reshape(1, 2, 1, 3,)\n",
    "print(A)\n",
    "\n",
    "print(A.ravel())\n",
    "print(A.flatten())\n",
    "print(A.reshape(-1))"
   ]
  },
  {
   "source": [
    "## “Automatic” Reshaping\n",
    "\n",
    "When we reshape our arrays, we can omit 1 of the dimensions by assign -1 to it, then numpy will reshape the arrays with a proper dimension automatically."
   ],
   "cell_type": "markdown",
   "metadata": {}
  },
  {
   "cell_type": "code",
   "execution_count": 95,
   "metadata": {},
   "outputs": [
    {
     "output_type": "stream",
     "name": "stdout",
     "text": [
      "[[[ 0  1  2  3  4]\n  [ 5  6  7  8  9]\n  [10 11 12 13 14]]\n\n [[15 16 17 18 19]\n  [20 21 22 23 24]\n  [25 26 27 28 29]]]\n(2, 3, 5)\n"
     ]
    }
   ],
   "source": [
    "A = np.arange(30)\n",
    "A = A.reshape(2, -1, 5)  # -1 means \"whatever is needed\"\n",
    "\n",
    "print(A)\n",
    "print(A.shape)"
   ]
  },
  {
   "source": [
    "# Reference\n",
    "\n",
    "- https://numpy.org/doc/stable/user/absolute_beginners.html#how-do-you-know-the-shape-and-size-of-an-array\n",
    "- https://numpy.org/doc/stable/user/absolute_beginners.html#can-you-reshape-an-array\n",
    "- https://numpy.org/doc/stable/user/absolute_beginners.html#how-to-convert-a-1d-array-into-a-2d-array-how-to-add-a-new-axis-to-an-array\n",
    "- https://numpy.org/doc/stable/user/absolute_beginners.html#transposing-and-reshaping-a-matrix\n",
    "- https://numpy.org/doc/stable/user/quickstart.html#shape-manipulation\n",
    "- https://numpy.org/doc/stable/user/quickstart.html#automatic-reshaping"
   ],
   "cell_type": "markdown",
   "metadata": {}
  }
 ]
}