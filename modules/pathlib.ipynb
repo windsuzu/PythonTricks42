{
 "cells": [
  {
   "cell_type": "markdown",
   "metadata": {},
   "source": [
    "# Pathlib\r\n",
    "\r\n",
    "We often use the `os` module to manipulate the paths of files and directories, like below."
   ]
  },
  {
   "cell_type": "code",
   "execution_count": 1,
   "metadata": {},
   "outputs": [
    {
     "name": "stdout",
     "output_type": "stream",
     "text": [
      "d:\\Project\\PythonUniverse\\modules\n",
      "True\n"
     ]
    }
   ],
   "source": [
    "import os\r\n",
    "\r\n",
    "print(os.getcwd())\r\n",
    "print(os.path.exists(\"pathlib.ipynb\"))"
   ]
  },
  {
   "cell_type": "markdown",
   "metadata": {},
   "source": [
    "After Python 3.4, we can use a new module called `pathlib`, which encapsulates various functions of `os` into the `Path` class; It makes the operations with files and directories more intuitive and more object-oriented."
   ]
  },
  {
   "cell_type": "markdown",
   "metadata": {},
   "source": [
    "## Path object\r\n",
    "\r\n",
    "We send the `raw path string` of a file or a directory to the `Path` object, then we can do any operation using its **instance function**."
   ]
  },
  {
   "cell_type": "code",
   "execution_count": 2,
   "metadata": {},
   "outputs": [
    {
     "data": {
      "text/plain": "True"
     },
     "execution_count": 2,
     "metadata": {},
     "output_type": "execute_result"
    }
   ],
   "source": [
    "# old:\r\n",
    "# os.path.exists('pathlib.ipynb')\r\n",
    "\r\n",
    "from pathlib import Path\r\n",
    "\r\n",
    "Path(\"pathlib.ipynb\").exists()"
   ]
  },
  {
   "cell_type": "markdown",
   "metadata": {},
   "source": [
    "`Path` also has some arithmetic operations, one is using **division operator** (/) to join the `Path`s."
   ]
  },
  {
   "cell_type": "code",
   "execution_count": 3,
   "metadata": {},
   "outputs": [
    {
     "data": {
      "text/plain": "WindowsPath('home/project/something.txt')"
     },
     "execution_count": 3,
     "metadata": {},
     "output_type": "execute_result"
    }
   ],
   "source": [
    "Path(\"home\") / Path(\"project\") / Path(\"something.txt\")"
   ]
  },
  {
   "cell_type": "markdown",
   "metadata": {},
   "source": [
    "It is also possible to **compare** two `Path` objects."
   ]
  },
  {
   "cell_type": "code",
   "execution_count": 4,
   "metadata": {},
   "outputs": [
    {
     "name": "stdout",
     "output_type": "stream",
     "text": [
      "True\n",
      "False\n"
     ]
    }
   ],
   "source": [
    "print(Path(\"/tmp\") == Path(\"/tmp\"))\r\n",
    "print(Path(\"/tmp/a\") == Path(\"/tmp\"))"
   ]
  },
  {
   "cell_type": "markdown",
   "metadata": {},
   "source": [
    "We can get the **filename** and **filename extension** by using the properties: `name` and `suffix` from the `Path` object. "
   ]
  },
  {
   "cell_type": "code",
   "execution_count": 20,
   "metadata": {},
   "outputs": [
    {
     "name": "stdout",
     "output_type": "stream",
     "text": [
      "something.txt\n",
      ".txt\n"
     ]
    }
   ],
   "source": [
    "file_ = Path(\"home\") / Path(\"project\") / Path(\"something.txt\")"
   ]
  },
  {
   "cell_type": "markdown",
   "metadata": {},
   "source": [
    "## Create, Read, Write, Check, Remove Files"
   ]
  },
  {
   "cell_type": "markdown",
   "metadata": {},
   "source": [
    "### Create\r\n",
    "\r\n",
    "you can use `touch()` to create an empty file, and use `mkdir()` to create an empty folder.\r\n",
    "\r\n",
    "`mkdir()` has two important params:\r\n",
    "\r\n",
    "1. `parents`\r\n",
    "   1. True = any **missing parents** of this path are created as needed\r\n",
    "   2. False = a missing parent raises `FileNotFoundError`\r\n",
    "2. `exist_ok`\r\n",
    "   1. True = `FileExistsError` exceptions will be ignored\r\n",
    "   2. False = `FileExistsError` is raised if the target directory already exists"
   ]
  },
  {
   "cell_type": "code",
   "execution_count": 55,
   "metadata": {},
   "outputs": [],
   "source": [
    "sub_folder = Path(\"subfolder/subfolder\")\r\n",
    "\r\n",
    "sub_folder.mkdir(parents=True, exist_ok=True)\r\n",
    "\r\n",
    "file_ = sub_folder / Path(\"test.txt\")\r\n",
    "file_.touch()\r\n",
    "\r\n",
    "# subfolder\r\n",
    "#   - subfolder\r\n",
    "#     - test.txt"
   ]
  },
  {
   "cell_type": "markdown",
   "metadata": {},
   "source": [
    "### Write\r\n",
    "\r\n",
    "We can use **instance function** `write_text()` or context manager style to write the file."
   ]
  },
  {
   "cell_type": "code",
   "execution_count": 35,
   "metadata": {},
   "outputs": [],
   "source": [
    "file_.write_text(\"hello world\")\r\n",
    "\r\n",
    "with file_.open(\"a\") as f:\r\n",
    "    f.write(\"!!!\")"
   ]
  },
  {
   "cell_type": "markdown",
   "metadata": {},
   "source": [
    "### Read\r\n",
    "\r\n",
    "Same as **write**."
   ]
  },
  {
   "cell_type": "code",
   "execution_count": 36,
   "metadata": {},
   "outputs": [
    {
     "name": "stdout",
     "output_type": "stream",
     "text": [
      "hello world!!!\n",
      "['hello world!!!']\n"
     ]
    }
   ],
   "source": [
    "print(file_.read_text())\r\n",
    "\r\n",
    "with file_.open(\"r\") as f:\r\n",
    "    print(f.readlines())"
   ]
  },
  {
   "cell_type": "markdown",
   "metadata": {},
   "source": [
    "### Check\r\n",
    "\r\n",
    "- check if the `Path` is file = `is_file()`\r\n",
    "- check if the `Path` is directory = `is_dir()`\r\n",
    "- check file's stat = `stat()`"
   ]
  },
  {
   "cell_type": "code",
   "execution_count": 43,
   "metadata": {},
   "outputs": [
    {
     "name": "stdout",
     "output_type": "stream",
     "text": [
      "True\n",
      "False\n",
      "os.stat_result(st_mode=33206, st_ino=1970324836975828, st_dev=4289877840, st_nlink=1, st_uid=0, st_gid=0, st_size=14, st_atime=1612971481, st_mtime=1612971476, st_ctime=1612971425)\n"
     ]
    }
   ],
   "source": [
    "print(file_.is_file())\r\n",
    "print(file_.is_dir())\r\n",
    "print(file_.stat())"
   ]
  },
  {
   "cell_type": "markdown",
   "metadata": {},
   "source": [
    "### Remove\r\n",
    "\r\n",
    "You can use `unlink()` to remove a file, and `rmdir()` to remove a **empty folder**.\r\n",
    "\r\n",
    "If you want to remove a non-empty folder recursively, please check out: https://stackoverflow.com/questions/50186904/pathlib-recursively-remove-directory"
   ]
  },
  {
   "cell_type": "code",
   "execution_count": 54,
   "metadata": {},
   "outputs": [],
   "source": [
    "# subfolder\r\n",
    "#   - subfolder\r\n",
    "#     - test.txt\r\n",
    "\r\n",
    "file_.unlink()\r\n",
    "\r\n",
    "Path(\"subfolder/subfolder\").rmdir()\r\n",
    "Path(\"subfolder\").rmdir()"
   ]
  },
  {
   "cell_type": "markdown",
   "metadata": {},
   "source": [
    "## Find all files \r\n",
    "\r\n",
    "There are two ways to find the files in all folders, one is to traverse the file tree with `iterdir()` and the other is `glob()`.\r\n",
    "\r\n",
    "Consider our file system tree is:\r\n",
    "\r\n",
    "- subfolder\r\n",
    "  - test.txt\r\n",
    "  - subfolder\r\n",
    "    - test.txt"
   ]
  },
  {
   "cell_type": "code",
   "execution_count": 69,
   "metadata": {},
   "outputs": [
    {
     "name": "stdout",
     "output_type": "stream",
     "text": [
      "subfolder\\subfolder\\test.txt\n",
      "subfolder\\test.txt\n"
     ]
    }
   ],
   "source": [
    "def iter_dir(dir):\r\n",
    "    for x in dir.iterdir():\r\n",
    "        if x.is_file():\r\n",
    "            yield x\r\n",
    "        else:\r\n",
    "            yield from iter_dir(x)\r\n",
    "\r\n",
    "for f in iter_dir(Path(\"subfolder\")):\r\n",
    "    print(f)"
   ]
  },
  {
   "cell_type": "code",
   "execution_count": 74,
   "metadata": {},
   "outputs": [
    {
     "name": "stdout",
     "output_type": "stream",
     "text": [
      "subfolder\\test.txt\n",
      "subfolder\\subfolder\\test.txt\n"
     ]
    }
   ],
   "source": [
    "for f in Path(\"subfolder\").glob(\"**/*\"):\r\n",
    "    if f.is_file():\r\n",
    "        print(f)"
   ]
  },
  {
   "cell_type": "markdown",
   "metadata": {},
   "source": [
    "# Reference\r\n",
    "\r\n",
    "* https://myapollo.com.tw/zh-tw/python-pathlib/\r\n",
    "* https://docs.python.org/3/library/pathlib.html"
   ]
  }
 ],
 "metadata": {
  "kernelspec": {
   "display_name": "Python 3.7.7 64-bit",
   "metadata": {
    "interpreter": {
     "hash": "1005f71a2f2c9f7da6acb75e9bc0247674183f6cab85bd2a339bd069fc0cd207"
    }
   },
   "name": "python3"
  },
  "language_info": {
   "codemirror_mode": {
    "name": "ipython",
    "version": 3
   },
   "file_extension": ".py",
   "mimetype": "text/x-python",
   "name": "python",
   "nbconvert_exporter": "python",
   "pygments_lexer": "ipython3",
   "version": "3.7.7"
  },
  "orig_nbformat": 2
 },
 "nbformat": 4,
 "nbformat_minor": 2
}