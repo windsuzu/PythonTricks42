{
 "cells": [
  {
   "cell_type": "markdown",
   "metadata": {},
   "source": [
    "# Other Pandas Tricks"
   ]
  },
  {
   "cell_type": "code",
   "execution_count": 1,
   "metadata": {},
   "outputs": [],
   "source": [
    "import numpy as np\r\n",
    "import pandas as pd"
   ]
  },
  {
   "cell_type": "markdown",
   "metadata": {},
   "source": [
    "## Rename Columns"
   ]
  },
  {
   "cell_type": "code",
   "execution_count": 2,
   "metadata": {},
   "outputs": [
    {
     "data": {
      "text/html": "<div>\n<style scoped>\n    .dataframe tbody tr th:only-of-type {\n        vertical-align: middle;\n    }\n\n    .dataframe tbody tr th {\n        vertical-align: top;\n    }\n\n    .dataframe thead th {\n        text-align: right;\n    }\n</style>\n<table border=\"1\" class=\"dataframe\">\n  <thead>\n    <tr style=\"text-align: right;\">\n      <th></th>\n      <th>col1</th>\n      <th>col2</th>\n    </tr>\n  </thead>\n  <tbody>\n    <tr>\n      <th>0</th>\n      <td>-1.652402</td>\n      <td>-0.518362</td>\n    </tr>\n    <tr>\n      <th>1</th>\n      <td>1.741928</td>\n      <td>0.828322</td>\n    </tr>\n  </tbody>\n</table>\n</div>",
      "text/plain": "       col1      col2\n0 -1.652402 -0.518362\n1  1.741928  0.828322"
     },
     "execution_count": 2,
     "metadata": {},
     "output_type": "execute_result"
    }
   ],
   "source": [
    "df = pd.DataFrame(np.random.randn(2, 2), columns=[\"col1\", \"col2\"])\r\n",
    "df"
   ]
  },
  {
   "cell_type": "code",
   "execution_count": 11,
   "metadata": {},
   "outputs": [
    {
     "data": {
      "text/html": "<div>\n<style scoped>\n    .dataframe tbody tr th:only-of-type {\n        vertical-align: middle;\n    }\n\n    .dataframe tbody tr th {\n        vertical-align: top;\n    }\n\n    .dataframe thead th {\n        text-align: right;\n    }\n</style>\n<table border=\"1\" class=\"dataframe\">\n  <thead>\n    <tr style=\"text-align: right;\">\n      <th></th>\n      <th>Xx_col_one_xX</th>\n      <th>Xx_col_two_xX</th>\n    </tr>\n  </thead>\n  <tbody>\n    <tr>\n      <th>0</th>\n      <td>-1.652402</td>\n      <td>-0.518362</td>\n    </tr>\n    <tr>\n      <th>1</th>\n      <td>1.741928</td>\n      <td>0.828322</td>\n    </tr>\n  </tbody>\n</table>\n</div>",
      "text/plain": "   Xx_col_one_xX  Xx_col_two_xX\n0      -1.652402      -0.518362\n1       1.741928       0.828322"
     },
     "execution_count": 11,
     "metadata": {},
     "output_type": "execute_result"
    }
   ],
   "source": [
    "df.columns = [\"col_one\", \"col_two\"]\r\n",
    "df = df.add_prefix(\"Xx_\")\r\n",
    "df = df.add_suffix(\"_xX\")\r\n",
    "df"
   ]
  },
  {
   "cell_type": "code",
   "execution_count": 13,
   "metadata": {},
   "outputs": [
    {
     "data": {
      "text/html": "<div>\n<style scoped>\n    .dataframe tbody tr th:only-of-type {\n        vertical-align: middle;\n    }\n\n    .dataframe tbody tr th {\n        vertical-align: top;\n    }\n\n    .dataframe thead th {\n        text-align: right;\n    }\n</style>\n<table border=\"1\" class=\"dataframe\">\n  <thead>\n    <tr style=\"text-align: right;\">\n      <th></th>\n      <th>Oo_col_one_oO</th>\n      <th>Oo_col_two_oO</th>\n    </tr>\n  </thead>\n  <tbody>\n    <tr>\n      <th>0</th>\n      <td>-1.652402</td>\n      <td>-0.518362</td>\n    </tr>\n    <tr>\n      <th>1</th>\n      <td>1.741928</td>\n      <td>0.828322</td>\n    </tr>\n  </tbody>\n</table>\n</div>",
      "text/plain": "   Oo_col_one_oO  Oo_col_two_oO\n0      -1.652402      -0.518362\n1       1.741928       0.828322"
     },
     "execution_count": 13,
     "metadata": {},
     "output_type": "execute_result"
    }
   ],
   "source": [
    "df.columns = df.columns.str.replace(\"Xx\", \"Oo\")\r\n",
    "df.columns = df.columns.str.replace(\"xX\", \"oO\")\r\n",
    "df"
   ]
  },
  {
   "cell_type": "markdown",
   "metadata": {},
   "source": [
    "## Reverse Row Order"
   ]
  },
  {
   "cell_type": "code",
   "execution_count": 17,
   "metadata": {},
   "outputs": [
    {
     "data": {
      "text/html": "<div>\n<style scoped>\n    .dataframe tbody tr th:only-of-type {\n        vertical-align: middle;\n    }\n\n    .dataframe tbody tr th {\n        vertical-align: top;\n    }\n\n    .dataframe thead th {\n        text-align: right;\n    }\n</style>\n<table border=\"1\" class=\"dataframe\">\n  <thead>\n    <tr style=\"text-align: right;\">\n      <th></th>\n      <th>Oo_col_one_oO</th>\n      <th>Oo_col_two_oO</th>\n    </tr>\n  </thead>\n  <tbody>\n    <tr>\n      <th>0</th>\n      <td>1.741928</td>\n      <td>0.828322</td>\n    </tr>\n    <tr>\n      <th>1</th>\n      <td>-1.652402</td>\n      <td>-0.518362</td>\n    </tr>\n  </tbody>\n</table>\n</div>",
      "text/plain": "   Oo_col_one_oO  Oo_col_two_oO\n0       1.741928       0.828322\n1      -1.652402      -0.518362"
     },
     "execution_count": 17,
     "metadata": {},
     "output_type": "execute_result"
    }
   ],
   "source": [
    "df.loc[::-1].reset_index(drop=True)"
   ]
  },
  {
   "cell_type": "markdown",
   "metadata": {},
   "source": [
    "## Reverse Column Order"
   ]
  },
  {
   "cell_type": "code",
   "execution_count": 18,
   "metadata": {},
   "outputs": [
    {
     "data": {
      "text/html": "<div>\n<style scoped>\n    .dataframe tbody tr th:only-of-type {\n        vertical-align: middle;\n    }\n\n    .dataframe tbody tr th {\n        vertical-align: top;\n    }\n\n    .dataframe thead th {\n        text-align: right;\n    }\n</style>\n<table border=\"1\" class=\"dataframe\">\n  <thead>\n    <tr style=\"text-align: right;\">\n      <th></th>\n      <th>Oo_col_two_oO</th>\n      <th>Oo_col_one_oO</th>\n    </tr>\n  </thead>\n  <tbody>\n    <tr>\n      <th>0</th>\n      <td>-0.518362</td>\n      <td>-1.652402</td>\n    </tr>\n    <tr>\n      <th>1</th>\n      <td>0.828322</td>\n      <td>1.741928</td>\n    </tr>\n  </tbody>\n</table>\n</div>",
      "text/plain": "   Oo_col_two_oO  Oo_col_one_oO\n0      -0.518362      -1.652402\n1       0.828322       1.741928"
     },
     "execution_count": 18,
     "metadata": {},
     "output_type": "execute_result"
    }
   ],
   "source": [
    "df.loc[:, ::-1]"
   ]
  },
  {
   "cell_type": "markdown",
   "metadata": {},
   "source": [
    "## Split DataFrame into 2 random subsets"
   ]
  },
  {
   "cell_type": "code",
   "execution_count": 42,
   "metadata": {},
   "outputs": [
    {
     "data": {
      "text/html": "<div>\n<style scoped>\n    .dataframe tbody tr th:only-of-type {\n        vertical-align: middle;\n    }\n\n    .dataframe tbody tr th {\n        vertical-align: top;\n    }\n\n    .dataframe thead th {\n        text-align: right;\n    }\n</style>\n<table border=\"1\" class=\"dataframe\">\n  <thead>\n    <tr style=\"text-align: right;\">\n      <th></th>\n      <th>0</th>\n      <th>1</th>\n      <th>2</th>\n      <th>3</th>\n      <th>4</th>\n      <th>5</th>\n      <th>6</th>\n      <th>7</th>\n      <th>8</th>\n      <th>9</th>\n      <th>...</th>\n      <th>90</th>\n      <th>91</th>\n      <th>92</th>\n      <th>93</th>\n      <th>94</th>\n      <th>95</th>\n      <th>96</th>\n      <th>97</th>\n      <th>98</th>\n      <th>99</th>\n    </tr>\n  </thead>\n  <tbody>\n    <tr>\n      <th>0</th>\n      <td>0.159411</td>\n      <td>0.298931</td>\n      <td>0.842885</td>\n      <td>0.882282</td>\n      <td>0.881512</td>\n      <td>0.902333</td>\n      <td>0.979368</td>\n      <td>0.003560</td>\n      <td>0.563997</td>\n      <td>0.390954</td>\n      <td>...</td>\n      <td>0.380727</td>\n      <td>0.972988</td>\n      <td>0.958083</td>\n      <td>0.113189</td>\n      <td>0.695969</td>\n      <td>0.646054</td>\n      <td>0.028110</td>\n      <td>0.169317</td>\n      <td>0.890330</td>\n      <td>0.962519</td>\n    </tr>\n    <tr>\n      <th>1</th>\n      <td>0.393255</td>\n      <td>0.421920</td>\n      <td>0.642067</td>\n      <td>0.064417</td>\n      <td>0.758727</td>\n      <td>0.335141</td>\n      <td>0.522443</td>\n      <td>0.331110</td>\n      <td>0.495107</td>\n      <td>0.836426</td>\n      <td>...</td>\n      <td>0.457558</td>\n      <td>0.920217</td>\n      <td>0.754471</td>\n      <td>0.281582</td>\n      <td>0.455700</td>\n      <td>0.025525</td>\n      <td>0.382019</td>\n      <td>0.308363</td>\n      <td>0.822332</td>\n      <td>0.212461</td>\n    </tr>\n    <tr>\n      <th>2</th>\n      <td>0.155955</td>\n      <td>0.209897</td>\n      <td>0.344073</td>\n      <td>0.640547</td>\n      <td>0.408756</td>\n      <td>0.235934</td>\n      <td>0.048135</td>\n      <td>0.801886</td>\n      <td>0.394365</td>\n      <td>0.965966</td>\n      <td>...</td>\n      <td>0.800885</td>\n      <td>0.927270</td>\n      <td>0.936714</td>\n      <td>0.800308</td>\n      <td>0.772605</td>\n      <td>0.704907</td>\n      <td>0.767352</td>\n      <td>0.606509</td>\n      <td>0.568043</td>\n      <td>0.814453</td>\n    </tr>\n    <tr>\n      <th>3</th>\n      <td>0.019811</td>\n      <td>0.974393</td>\n      <td>0.921865</td>\n      <td>0.210018</td>\n      <td>0.392417</td>\n      <td>0.615220</td>\n      <td>0.287024</td>\n      <td>0.629036</td>\n      <td>0.434599</td>\n      <td>0.728465</td>\n      <td>...</td>\n      <td>0.899700</td>\n      <td>0.474804</td>\n      <td>0.080196</td>\n      <td>0.516865</td>\n      <td>0.170486</td>\n      <td>0.491800</td>\n      <td>0.566113</td>\n      <td>0.974429</td>\n      <td>0.399281</td>\n      <td>0.459004</td>\n    </tr>\n    <tr>\n      <th>4</th>\n      <td>0.293510</td>\n      <td>0.451253</td>\n      <td>0.794543</td>\n      <td>0.511961</td>\n      <td>0.368725</td>\n      <td>0.259943</td>\n      <td>0.579481</td>\n      <td>0.194551</td>\n      <td>0.691840</td>\n      <td>0.645353</td>\n      <td>...</td>\n      <td>0.542146</td>\n      <td>0.776222</td>\n      <td>0.901626</td>\n      <td>0.660428</td>\n      <td>0.018844</td>\n      <td>0.637194</td>\n      <td>0.977991</td>\n      <td>0.774888</td>\n      <td>0.927635</td>\n      <td>0.600319</td>\n    </tr>\n    <tr>\n      <th>...</th>\n      <td>...</td>\n      <td>...</td>\n      <td>...</td>\n      <td>...</td>\n      <td>...</td>\n      <td>...</td>\n      <td>...</td>\n      <td>...</td>\n      <td>...</td>\n      <td>...</td>\n      <td>...</td>\n      <td>...</td>\n      <td>...</td>\n      <td>...</td>\n      <td>...</td>\n      <td>...</td>\n      <td>...</td>\n      <td>...</td>\n      <td>...</td>\n      <td>...</td>\n      <td>...</td>\n    </tr>\n    <tr>\n      <th>95</th>\n      <td>0.562122</td>\n      <td>0.561479</td>\n      <td>0.108909</td>\n      <td>0.369141</td>\n      <td>0.321777</td>\n      <td>0.160426</td>\n      <td>0.911588</td>\n      <td>0.022228</td>\n      <td>0.495223</td>\n      <td>0.631357</td>\n      <td>...</td>\n      <td>0.420168</td>\n      <td>0.039151</td>\n      <td>0.393205</td>\n      <td>0.118683</td>\n      <td>0.425020</td>\n      <td>0.481761</td>\n      <td>0.214534</td>\n      <td>0.155467</td>\n      <td>0.111886</td>\n      <td>0.853167</td>\n    </tr>\n    <tr>\n      <th>96</th>\n      <td>0.450489</td>\n      <td>0.442581</td>\n      <td>0.288239</td>\n      <td>0.268745</td>\n      <td>0.394767</td>\n      <td>0.853165</td>\n      <td>0.410748</td>\n      <td>0.356737</td>\n      <td>0.293161</td>\n      <td>0.068706</td>\n      <td>...</td>\n      <td>0.364529</td>\n      <td>0.043533</td>\n      <td>0.560691</td>\n      <td>0.069211</td>\n      <td>0.396806</td>\n      <td>0.977845</td>\n      <td>0.084596</td>\n      <td>0.589990</td>\n      <td>0.722783</td>\n      <td>0.597236</td>\n    </tr>\n    <tr>\n      <th>97</th>\n      <td>0.072112</td>\n      <td>0.296271</td>\n      <td>0.508248</td>\n      <td>0.711067</td>\n      <td>0.914530</td>\n      <td>0.726148</td>\n      <td>0.839442</td>\n      <td>0.343697</td>\n      <td>0.665331</td>\n      <td>0.563753</td>\n      <td>...</td>\n      <td>0.722385</td>\n      <td>0.516185</td>\n      <td>0.455587</td>\n      <td>0.348619</td>\n      <td>0.415738</td>\n      <td>0.750325</td>\n      <td>0.260441</td>\n      <td>0.168143</td>\n      <td>0.632317</td>\n      <td>0.340607</td>\n    </tr>\n    <tr>\n      <th>98</th>\n      <td>0.348051</td>\n      <td>0.067803</td>\n      <td>0.395873</td>\n      <td>0.005243</td>\n      <td>0.300734</td>\n      <td>0.596864</td>\n      <td>0.007373</td>\n      <td>0.778917</td>\n      <td>0.109089</td>\n      <td>0.483432</td>\n      <td>...</td>\n      <td>0.620939</td>\n      <td>0.503375</td>\n      <td>0.136177</td>\n      <td>0.519082</td>\n      <td>0.341211</td>\n      <td>0.435600</td>\n      <td>0.673602</td>\n      <td>0.053523</td>\n      <td>0.412344</td>\n      <td>0.954009</td>\n    </tr>\n    <tr>\n      <th>99</th>\n      <td>0.413618</td>\n      <td>0.767975</td>\n      <td>0.558369</td>\n      <td>0.529468</td>\n      <td>0.804593</td>\n      <td>0.052119</td>\n      <td>0.878963</td>\n      <td>0.579539</td>\n      <td>0.539224</td>\n      <td>0.320288</td>\n      <td>...</td>\n      <td>0.120438</td>\n      <td>0.660588</td>\n      <td>0.692011</td>\n      <td>0.556928</td>\n      <td>0.413372</td>\n      <td>0.001472</td>\n      <td>0.383862</td>\n      <td>0.036352</td>\n      <td>0.588260</td>\n      <td>0.393609</td>\n    </tr>\n  </tbody>\n</table>\n<p>100 rows × 100 columns</p>\n</div>",
      "text/plain": "          0         1         2         3         4         5         6   \\\n0   0.159411  0.298931  0.842885  0.882282  0.881512  0.902333  0.979368   \n1   0.393255  0.421920  0.642067  0.064417  0.758727  0.335141  0.522443   \n2   0.155955  0.209897  0.344073  0.640547  0.408756  0.235934  0.048135   \n3   0.019811  0.974393  0.921865  0.210018  0.392417  0.615220  0.287024   \n4   0.293510  0.451253  0.794543  0.511961  0.368725  0.259943  0.579481   \n..       ...       ...       ...       ...       ...       ...       ...   \n95  0.562122  0.561479  0.108909  0.369141  0.321777  0.160426  0.911588   \n96  0.450489  0.442581  0.288239  0.268745  0.394767  0.853165  0.410748   \n97  0.072112  0.296271  0.508248  0.711067  0.914530  0.726148  0.839442   \n98  0.348051  0.067803  0.395873  0.005243  0.300734  0.596864  0.007373   \n99  0.413618  0.767975  0.558369  0.529468  0.804593  0.052119  0.878963   \n\n          7         8         9   ...        90        91        92        93  \\\n0   0.003560  0.563997  0.390954  ...  0.380727  0.972988  0.958083  0.113189   \n1   0.331110  0.495107  0.836426  ...  0.457558  0.920217  0.754471  0.281582   \n2   0.801886  0.394365  0.965966  ...  0.800885  0.927270  0.936714  0.800308   \n3   0.629036  0.434599  0.728465  ...  0.899700  0.474804  0.080196  0.516865   \n4   0.194551  0.691840  0.645353  ...  0.542146  0.776222  0.901626  0.660428   \n..       ...       ...       ...  ...       ...       ...       ...       ...   \n95  0.022228  0.495223  0.631357  ...  0.420168  0.039151  0.393205  0.118683   \n96  0.356737  0.293161  0.068706  ...  0.364529  0.043533  0.560691  0.069211   \n97  0.343697  0.665331  0.563753  ...  0.722385  0.516185  0.455587  0.348619   \n98  0.778917  0.109089  0.483432  ...  0.620939  0.503375  0.136177  0.519082   \n99  0.579539  0.539224  0.320288  ...  0.120438  0.660588  0.692011  0.556928   \n\n          94        95        96        97        98        99  \n0   0.695969  0.646054  0.028110  0.169317  0.890330  0.962519  \n1   0.455700  0.025525  0.382019  0.308363  0.822332  0.212461  \n2   0.772605  0.704907  0.767352  0.606509  0.568043  0.814453  \n3   0.170486  0.491800  0.566113  0.974429  0.399281  0.459004  \n4   0.018844  0.637194  0.977991  0.774888  0.927635  0.600319  \n..       ...       ...       ...       ...       ...       ...  \n95  0.425020  0.481761  0.214534  0.155467  0.111886  0.853167  \n96  0.396806  0.977845  0.084596  0.589990  0.722783  0.597236  \n97  0.415738  0.750325  0.260441  0.168143  0.632317  0.340607  \n98  0.341211  0.435600  0.673602  0.053523  0.412344  0.954009  \n99  0.413372  0.001472  0.383862  0.036352  0.588260  0.393609  \n\n[100 rows x 100 columns]"
     },
     "execution_count": 42,
     "metadata": {},
     "output_type": "execute_result"
    }
   ],
   "source": [
    "df = pd.DataFrame(np.random.rand(100, 100))\r\n",
    "df"
   ]
  },
  {
   "cell_type": "code",
   "execution_count": 44,
   "metadata": {},
   "outputs": [],
   "source": [
    "sub1 = df.sample(frac=0.75, random_state=42)\r\n",
    "sub2 = df.drop(sub1.index)"
   ]
  },
  {
   "cell_type": "code",
   "execution_count": 54,
   "metadata": {},
   "outputs": [
    {
     "data": {
      "text/html": "<div>\n<style scoped>\n    .dataframe tbody tr th:only-of-type {\n        vertical-align: middle;\n    }\n\n    .dataframe tbody tr th {\n        vertical-align: top;\n    }\n\n    .dataframe thead th {\n        text-align: right;\n    }\n</style>\n<table border=\"1\" class=\"dataframe\">\n  <thead>\n    <tr style=\"text-align: right;\">\n      <th></th>\n      <th>0</th>\n      <th>1</th>\n      <th>2</th>\n      <th>3</th>\n      <th>4</th>\n      <th>5</th>\n      <th>6</th>\n      <th>7</th>\n      <th>8</th>\n      <th>9</th>\n      <th>...</th>\n      <th>90</th>\n      <th>91</th>\n      <th>92</th>\n      <th>93</th>\n      <th>94</th>\n      <th>95</th>\n      <th>96</th>\n      <th>97</th>\n      <th>98</th>\n      <th>99</th>\n    </tr>\n  </thead>\n  <tbody>\n    <tr>\n      <th>0</th>\n      <td>0.276251</td>\n      <td>0.723083</td>\n      <td>0.082979</td>\n      <td>0.846063</td>\n      <td>0.014875</td>\n      <td>0.210630</td>\n      <td>0.196337</td>\n      <td>0.559769</td>\n      <td>0.219848</td>\n      <td>0.148299</td>\n      <td>...</td>\n      <td>0.232475</td>\n      <td>0.316412</td>\n      <td>0.340331</td>\n      <td>0.370059</td>\n      <td>0.664205</td>\n      <td>0.244533</td>\n      <td>0.021829</td>\n      <td>0.279612</td>\n      <td>0.521344</td>\n      <td>0.848524</td>\n    </tr>\n    <tr>\n      <th>3</th>\n      <td>0.763708</td>\n      <td>0.161123</td>\n      <td>0.857895</td>\n      <td>0.713798</td>\n      <td>0.338255</td>\n      <td>0.904108</td>\n      <td>0.327826</td>\n      <td>0.323136</td>\n      <td>0.858562</td>\n      <td>0.136595</td>\n      <td>...</td>\n      <td>0.727880</td>\n      <td>0.674210</td>\n      <td>0.082990</td>\n      <td>0.716252</td>\n      <td>0.311203</td>\n      <td>0.987096</td>\n      <td>0.329751</td>\n      <td>0.038746</td>\n      <td>0.826491</td>\n      <td>0.982170</td>\n    </tr>\n    <tr>\n      <th>4</th>\n      <td>0.585260</td>\n      <td>0.668893</td>\n      <td>0.266209</td>\n      <td>0.465460</td>\n      <td>0.284862</td>\n      <td>0.749908</td>\n      <td>0.980283</td>\n      <td>0.158074</td>\n      <td>0.871361</td>\n      <td>0.286298</td>\n      <td>...</td>\n      <td>0.309447</td>\n      <td>0.750684</td>\n      <td>0.987382</td>\n      <td>0.396398</td>\n      <td>0.491289</td>\n      <td>0.741207</td>\n      <td>0.359124</td>\n      <td>0.608923</td>\n      <td>0.681433</td>\n      <td>0.902490</td>\n    </tr>\n    <tr>\n      <th>5</th>\n      <td>0.596687</td>\n      <td>0.351625</td>\n      <td>0.287867</td>\n      <td>0.393596</td>\n      <td>0.792622</td>\n      <td>0.849491</td>\n      <td>0.347891</td>\n      <td>0.152247</td>\n      <td>0.939495</td>\n      <td>0.649926</td>\n      <td>...</td>\n      <td>0.834911</td>\n      <td>0.129675</td>\n      <td>0.431421</td>\n      <td>0.158797</td>\n      <td>0.634515</td>\n      <td>0.784749</td>\n      <td>0.476667</td>\n      <td>0.768063</td>\n      <td>0.739287</td>\n      <td>0.000095</td>\n    </tr>\n    <tr>\n      <th>6</th>\n      <td>0.986267</td>\n      <td>0.521338</td>\n      <td>0.841707</td>\n      <td>0.763193</td>\n      <td>0.982998</td>\n      <td>0.254452</td>\n      <td>0.697074</td>\n      <td>0.394279</td>\n      <td>0.322229</td>\n      <td>0.985216</td>\n      <td>...</td>\n      <td>0.534792</td>\n      <td>0.500795</td>\n      <td>0.930813</td>\n      <td>0.210237</td>\n      <td>0.704687</td>\n      <td>0.446557</td>\n      <td>0.428243</td>\n      <td>0.102073</td>\n      <td>0.622799</td>\n      <td>0.150419</td>\n    </tr>\n    <tr>\n      <th>...</th>\n      <td>...</td>\n      <td>...</td>\n      <td>...</td>\n      <td>...</td>\n      <td>...</td>\n      <td>...</td>\n      <td>...</td>\n      <td>...</td>\n      <td>...</td>\n      <td>...</td>\n      <td>...</td>\n      <td>...</td>\n      <td>...</td>\n      <td>...</td>\n      <td>...</td>\n      <td>...</td>\n      <td>...</td>\n      <td>...</td>\n      <td>...</td>\n      <td>...</td>\n      <td>...</td>\n    </tr>\n    <tr>\n      <th>95</th>\n      <td>0.722467</td>\n      <td>0.122681</td>\n      <td>0.435873</td>\n      <td>0.303812</td>\n      <td>0.658859</td>\n      <td>0.588442</td>\n      <td>0.389948</td>\n      <td>0.654091</td>\n      <td>0.654225</td>\n      <td>0.325699</td>\n      <td>...</td>\n      <td>0.356526</td>\n      <td>0.676978</td>\n      <td>0.983259</td>\n      <td>0.772427</td>\n      <td>0.147841</td>\n      <td>0.119114</td>\n      <td>0.702111</td>\n      <td>0.994781</td>\n      <td>0.347267</td>\n      <td>0.138974</td>\n    </tr>\n    <tr>\n      <th>96</th>\n      <td>0.056616</td>\n      <td>0.134457</td>\n      <td>0.816315</td>\n      <td>0.351577</td>\n      <td>0.653260</td>\n      <td>0.306659</td>\n      <td>0.082838</td>\n      <td>0.671839</td>\n      <td>0.110417</td>\n      <td>0.386508</td>\n      <td>...</td>\n      <td>0.962453</td>\n      <td>0.715970</td>\n      <td>0.820986</td>\n      <td>0.335437</td>\n      <td>0.634789</td>\n      <td>0.489468</td>\n      <td>0.169929</td>\n      <td>0.620325</td>\n      <td>0.678124</td>\n      <td>0.037664</td>\n    </tr>\n    <tr>\n      <th>97</th>\n      <td>0.218357</td>\n      <td>0.362536</td>\n      <td>0.784173</td>\n      <td>0.953841</td>\n      <td>0.619449</td>\n      <td>0.820282</td>\n      <td>0.877191</td>\n      <td>0.901184</td>\n      <td>0.412259</td>\n      <td>0.882334</td>\n      <td>...</td>\n      <td>0.789730</td>\n      <td>0.557504</td>\n      <td>0.106313</td>\n      <td>0.830663</td>\n      <td>0.137756</td>\n      <td>0.187265</td>\n      <td>0.827545</td>\n      <td>0.942015</td>\n      <td>0.972236</td>\n      <td>0.277819</td>\n    </tr>\n    <tr>\n      <th>98</th>\n      <td>0.621315</td>\n      <td>0.790725</td>\n      <td>0.725883</td>\n      <td>0.011554</td>\n      <td>0.372013</td>\n      <td>0.994310</td>\n      <td>0.380399</td>\n      <td>0.562334</td>\n      <td>0.489863</td>\n      <td>0.178500</td>\n      <td>...</td>\n      <td>0.480560</td>\n      <td>0.958206</td>\n      <td>0.417557</td>\n      <td>0.865288</td>\n      <td>0.317969</td>\n      <td>0.900408</td>\n      <td>0.276662</td>\n      <td>0.819103</td>\n      <td>0.169706</td>\n      <td>0.261084</td>\n    </tr>\n    <tr>\n      <th>99</th>\n      <td>0.348051</td>\n      <td>0.067803</td>\n      <td>0.395873</td>\n      <td>0.005243</td>\n      <td>0.300734</td>\n      <td>0.596864</td>\n      <td>0.007373</td>\n      <td>0.778917</td>\n      <td>0.109089</td>\n      <td>0.483432</td>\n      <td>...</td>\n      <td>0.620939</td>\n      <td>0.503375</td>\n      <td>0.136177</td>\n      <td>0.519082</td>\n      <td>0.341211</td>\n      <td>0.435600</td>\n      <td>0.673602</td>\n      <td>0.053523</td>\n      <td>0.412344</td>\n      <td>0.954009</td>\n    </tr>\n  </tbody>\n</table>\n<p>75 rows × 100 columns</p>\n</div>",
      "text/plain": "          0         1         2         3         4         5         6   \\\n0   0.276251  0.723083  0.082979  0.846063  0.014875  0.210630  0.196337   \n3   0.763708  0.161123  0.857895  0.713798  0.338255  0.904108  0.327826   \n4   0.585260  0.668893  0.266209  0.465460  0.284862  0.749908  0.980283   \n5   0.596687  0.351625  0.287867  0.393596  0.792622  0.849491  0.347891   \n6   0.986267  0.521338  0.841707  0.763193  0.982998  0.254452  0.697074   \n..       ...       ...       ...       ...       ...       ...       ...   \n95  0.722467  0.122681  0.435873  0.303812  0.658859  0.588442  0.389948   \n96  0.056616  0.134457  0.816315  0.351577  0.653260  0.306659  0.082838   \n97  0.218357  0.362536  0.784173  0.953841  0.619449  0.820282  0.877191   \n98  0.621315  0.790725  0.725883  0.011554  0.372013  0.994310  0.380399   \n99  0.348051  0.067803  0.395873  0.005243  0.300734  0.596864  0.007373   \n\n          7         8         9   ...        90        91        92        93  \\\n0   0.559769  0.219848  0.148299  ...  0.232475  0.316412  0.340331  0.370059   \n3   0.323136  0.858562  0.136595  ...  0.727880  0.674210  0.082990  0.716252   \n4   0.158074  0.871361  0.286298  ...  0.309447  0.750684  0.987382  0.396398   \n5   0.152247  0.939495  0.649926  ...  0.834911  0.129675  0.431421  0.158797   \n6   0.394279  0.322229  0.985216  ...  0.534792  0.500795  0.930813  0.210237   \n..       ...       ...       ...  ...       ...       ...       ...       ...   \n95  0.654091  0.654225  0.325699  ...  0.356526  0.676978  0.983259  0.772427   \n96  0.671839  0.110417  0.386508  ...  0.962453  0.715970  0.820986  0.335437   \n97  0.901184  0.412259  0.882334  ...  0.789730  0.557504  0.106313  0.830663   \n98  0.562334  0.489863  0.178500  ...  0.480560  0.958206  0.417557  0.865288   \n99  0.778917  0.109089  0.483432  ...  0.620939  0.503375  0.136177  0.519082   \n\n          94        95        96        97        98        99  \n0   0.664205  0.244533  0.021829  0.279612  0.521344  0.848524  \n3   0.311203  0.987096  0.329751  0.038746  0.826491  0.982170  \n4   0.491289  0.741207  0.359124  0.608923  0.681433  0.902490  \n5   0.634515  0.784749  0.476667  0.768063  0.739287  0.000095  \n6   0.704687  0.446557  0.428243  0.102073  0.622799  0.150419  \n..       ...       ...       ...       ...       ...       ...  \n95  0.147841  0.119114  0.702111  0.994781  0.347267  0.138974  \n96  0.634789  0.489468  0.169929  0.620325  0.678124  0.037664  \n97  0.137756  0.187265  0.827545  0.942015  0.972236  0.277819  \n98  0.317969  0.900408  0.276662  0.819103  0.169706  0.261084  \n99  0.341211  0.435600  0.673602  0.053523  0.412344  0.954009  \n\n[75 rows x 100 columns]"
     },
     "execution_count": 54,
     "metadata": {},
     "output_type": "execute_result"
    }
   ],
   "source": [
    "sub1.index = sub1.index.sort_values()\r\n",
    "sub2.index = sub2.index.sort_values()\r\n",
    "sub1"
   ]
  },
  {
   "cell_type": "markdown",
   "metadata": {},
   "source": [
    "## Filter by Category"
   ]
  },
  {
   "cell_type": "code",
   "execution_count": 62,
   "metadata": {},
   "outputs": [
    {
     "data": {
      "text/html": "<div>\n<style scoped>\n    .dataframe tbody tr th:only-of-type {\n        vertical-align: middle;\n    }\n\n    .dataframe tbody tr th {\n        vertical-align: top;\n    }\n\n    .dataframe thead th {\n        text-align: right;\n    }\n</style>\n<table border=\"1\" class=\"dataframe\">\n  <thead>\n    <tr style=\"text-align: right;\">\n      <th></th>\n      <th>0</th>\n      <th>1</th>\n      <th>genre</th>\n    </tr>\n  </thead>\n  <tbody>\n    <tr>\n      <th>0</th>\n      <td>0.474158</td>\n      <td>0.513960</td>\n      <td>A</td>\n    </tr>\n    <tr>\n      <th>1</th>\n      <td>0.151835</td>\n      <td>0.390610</td>\n      <td>A</td>\n    </tr>\n    <tr>\n      <th>2</th>\n      <td>0.253245</td>\n      <td>0.683660</td>\n      <td>B</td>\n    </tr>\n    <tr>\n      <th>3</th>\n      <td>0.411327</td>\n      <td>0.592954</td>\n      <td>C</td>\n    </tr>\n    <tr>\n      <th>4</th>\n      <td>0.061623</td>\n      <td>0.979052</td>\n      <td>D</td>\n    </tr>\n    <tr>\n      <th>5</th>\n      <td>0.383860</td>\n      <td>0.771639</td>\n      <td>A</td>\n    </tr>\n  </tbody>\n</table>\n</div>",
      "text/plain": "          0         1 genre\n0  0.474158  0.513960     A\n1  0.151835  0.390610     A\n2  0.253245  0.683660     B\n3  0.411327  0.592954     C\n4  0.061623  0.979052     D\n5  0.383860  0.771639     A"
     },
     "execution_count": 62,
     "metadata": {},
     "output_type": "execute_result"
    }
   ],
   "source": [
    "df = pd.DataFrame(np.random.rand(6, 2))\r\n",
    "df[\"genre\"] = pd.Series([\"A\", \"A\", \"B\", \"C\", \"D\", \"A\"], dtype=\"category\")\r\n",
    "df"
   ]
  },
  {
   "cell_type": "code",
   "execution_count": 64,
   "metadata": {},
   "outputs": [
    {
     "data": {
      "text/html": "<div>\n<style scoped>\n    .dataframe tbody tr th:only-of-type {\n        vertical-align: middle;\n    }\n\n    .dataframe tbody tr th {\n        vertical-align: top;\n    }\n\n    .dataframe thead th {\n        text-align: right;\n    }\n</style>\n<table border=\"1\" class=\"dataframe\">\n  <thead>\n    <tr style=\"text-align: right;\">\n      <th></th>\n      <th>0</th>\n      <th>1</th>\n      <th>genre</th>\n    </tr>\n  </thead>\n  <tbody>\n    <tr>\n      <th>0</th>\n      <td>0.474158</td>\n      <td>0.513960</td>\n      <td>A</td>\n    </tr>\n    <tr>\n      <th>1</th>\n      <td>0.151835</td>\n      <td>0.390610</td>\n      <td>A</td>\n    </tr>\n    <tr>\n      <th>4</th>\n      <td>0.061623</td>\n      <td>0.979052</td>\n      <td>D</td>\n    </tr>\n    <tr>\n      <th>5</th>\n      <td>0.383860</td>\n      <td>0.771639</td>\n      <td>A</td>\n    </tr>\n  </tbody>\n</table>\n</div>",
      "text/plain": "          0         1 genre\n0  0.474158  0.513960     A\n1  0.151835  0.390610     A\n4  0.061623  0.979052     D\n5  0.383860  0.771639     A"
     },
     "execution_count": 64,
     "metadata": {},
     "output_type": "execute_result"
    }
   ],
   "source": [
    "df[df.genre.isin([\"A\", \"D\"])]"
   ]
  },
  {
   "cell_type": "code",
   "execution_count": 65,
   "metadata": {},
   "outputs": [
    {
     "data": {
      "text/html": "<div>\n<style scoped>\n    .dataframe tbody tr th:only-of-type {\n        vertical-align: middle;\n    }\n\n    .dataframe tbody tr th {\n        vertical-align: top;\n    }\n\n    .dataframe thead th {\n        text-align: right;\n    }\n</style>\n<table border=\"1\" class=\"dataframe\">\n  <thead>\n    <tr style=\"text-align: right;\">\n      <th></th>\n      <th>0</th>\n      <th>1</th>\n      <th>genre</th>\n    </tr>\n  </thead>\n  <tbody>\n    <tr>\n      <th>2</th>\n      <td>0.253245</td>\n      <td>0.683660</td>\n      <td>B</td>\n    </tr>\n    <tr>\n      <th>3</th>\n      <td>0.411327</td>\n      <td>0.592954</td>\n      <td>C</td>\n    </tr>\n  </tbody>\n</table>\n</div>",
      "text/plain": "          0         1 genre\n2  0.253245  0.683660     B\n3  0.411327  0.592954     C"
     },
     "execution_count": 65,
     "metadata": {},
     "output_type": "execute_result"
    }
   ],
   "source": [
    "df[~df.genre.isin([\"A\", \"D\"])]"
   ]
  },
  {
   "cell_type": "markdown",
   "metadata": {},
   "source": [
    "### Filter by Largest Category"
   ]
  },
  {
   "cell_type": "code",
   "execution_count": 74,
   "metadata": {},
   "outputs": [
    {
     "name": "stdout",
     "output_type": "stream",
     "text": [
      "A    3\n",
      "Name: genre, dtype: int64\n",
      "CategoricalIndex(['A'], categories=['A', 'B', 'C', 'D'], ordered=False, dtype='category')\n"
     ]
    },
    {
     "data": {
      "text/html": "<div>\n<style scoped>\n    .dataframe tbody tr th:only-of-type {\n        vertical-align: middle;\n    }\n\n    .dataframe tbody tr th {\n        vertical-align: top;\n    }\n\n    .dataframe thead th {\n        text-align: right;\n    }\n</style>\n<table border=\"1\" class=\"dataframe\">\n  <thead>\n    <tr style=\"text-align: right;\">\n      <th></th>\n      <th>0</th>\n      <th>1</th>\n      <th>genre</th>\n    </tr>\n  </thead>\n  <tbody>\n    <tr>\n      <th>0</th>\n      <td>0.474158</td>\n      <td>0.513960</td>\n      <td>A</td>\n    </tr>\n    <tr>\n      <th>1</th>\n      <td>0.151835</td>\n      <td>0.390610</td>\n      <td>A</td>\n    </tr>\n    <tr>\n      <th>5</th>\n      <td>0.383860</td>\n      <td>0.771639</td>\n      <td>A</td>\n    </tr>\n  </tbody>\n</table>\n</div>",
      "text/plain": "          0         1 genre\n0  0.474158  0.513960     A\n1  0.151835  0.390610     A\n5  0.383860  0.771639     A"
     },
     "execution_count": 74,
     "metadata": {},
     "output_type": "execute_result"
    }
   ],
   "source": [
    "print(df.genre.value_counts().nlargest(1))\r\n",
    "print(df.genre.value_counts().nlargest(1).index)\r\n",
    "\r\n",
    "df[df.genre.isin(df.genre.value_counts().nlargest(1).index)]"
   ]
  },
  {
   "cell_type": "markdown",
   "metadata": {},
   "source": [
    "## Split String into Multiple Columns"
   ]
  },
  {
   "cell_type": "code",
   "execution_count": 77,
   "metadata": {},
   "outputs": [
    {
     "data": {
      "text/html": "<div>\n<style scoped>\n    .dataframe tbody tr th:only-of-type {\n        vertical-align: middle;\n    }\n\n    .dataframe tbody tr th {\n        vertical-align: top;\n    }\n\n    .dataframe thead th {\n        text-align: right;\n    }\n</style>\n<table border=\"1\" class=\"dataframe\">\n  <thead>\n    <tr style=\"text-align: right;\">\n      <th></th>\n      <th>name</th>\n      <th>location</th>\n    </tr>\n  </thead>\n  <tbody>\n    <tr>\n      <th>0</th>\n      <td>Penny Giles</td>\n      <td>Los Angeles, CA</td>\n    </tr>\n    <tr>\n      <th>1</th>\n      <td>Reiss Hoover</td>\n      <td>Washington, DC</td>\n    </tr>\n  </tbody>\n</table>\n</div>",
      "text/plain": "           name         location\n0   Penny Giles  Los Angeles, CA\n1  Reiss Hoover   Washington, DC"
     },
     "execution_count": 77,
     "metadata": {},
     "output_type": "execute_result"
    }
   ],
   "source": [
    "df = pd.DataFrame({\r\n",
    "    \"name\": [\"Penny Giles\" ,\"Reiss Hoover\"],\r\n",
    "    \"location\": [\"Los Angeles, CA\", \"Washington, DC\"]\r\n",
    "})\r\n",
    "df "
   ]
  },
  {
   "cell_type": "code",
   "execution_count": 94,
   "metadata": {},
   "outputs": [
    {
     "data": {
      "text/html": "<div>\n<style scoped>\n    .dataframe tbody tr th:only-of-type {\n        vertical-align: middle;\n    }\n\n    .dataframe tbody tr th {\n        vertical-align: top;\n    }\n\n    .dataframe thead th {\n        text-align: right;\n    }\n</style>\n<table border=\"1\" class=\"dataframe\">\n  <thead>\n    <tr style=\"text-align: right;\">\n      <th></th>\n      <th>name</th>\n      <th>location</th>\n      <th>first</th>\n      <th>last</th>\n      <th>city</th>\n    </tr>\n  </thead>\n  <tbody>\n    <tr>\n      <th>0</th>\n      <td>Penny Giles</td>\n      <td>Los Angeles, CA</td>\n      <td>Penny</td>\n      <td>Giles</td>\n      <td>Los Angeles</td>\n    </tr>\n    <tr>\n      <th>1</th>\n      <td>Reiss Hoover</td>\n      <td>Washington, DC</td>\n      <td>Reiss</td>\n      <td>Hoover</td>\n      <td>Washington</td>\n    </tr>\n  </tbody>\n</table>\n</div>",
      "text/plain": "           name         location  first    last         city\n0   Penny Giles  Los Angeles, CA  Penny   Giles  Los Angeles\n1  Reiss Hoover   Washington, DC  Reiss  Hoover   Washington"
     },
     "execution_count": 94,
     "metadata": {},
     "output_type": "execute_result"
    }
   ],
   "source": [
    "df[[\"first\", \"last\"]] = df[\"name\"].str.split(' ', expand=True)\r\n",
    "df"
   ]
  },
  {
   "cell_type": "code",
   "execution_count": 95,
   "metadata": {},
   "outputs": [
    {
     "data": {
      "text/html": "<div>\n<style scoped>\n    .dataframe tbody tr th:only-of-type {\n        vertical-align: middle;\n    }\n\n    .dataframe tbody tr th {\n        vertical-align: top;\n    }\n\n    .dataframe thead th {\n        text-align: right;\n    }\n</style>\n<table border=\"1\" class=\"dataframe\">\n  <thead>\n    <tr style=\"text-align: right;\">\n      <th></th>\n      <th>name</th>\n      <th>location</th>\n      <th>first</th>\n      <th>last</th>\n      <th>city</th>\n    </tr>\n  </thead>\n  <tbody>\n    <tr>\n      <th>0</th>\n      <td>Penny Giles</td>\n      <td>Los Angeles, CA</td>\n      <td>Penny</td>\n      <td>Giles</td>\n      <td>Los Angeles</td>\n    </tr>\n    <tr>\n      <th>1</th>\n      <td>Reiss Hoover</td>\n      <td>Washington, DC</td>\n      <td>Reiss</td>\n      <td>Hoover</td>\n      <td>Washington</td>\n    </tr>\n  </tbody>\n</table>\n</div>",
      "text/plain": "           name         location  first    last         city\n0   Penny Giles  Los Angeles, CA  Penny   Giles  Los Angeles\n1  Reiss Hoover   Washington, DC  Reiss  Hoover   Washington"
     },
     "execution_count": 95,
     "metadata": {},
     "output_type": "execute_result"
    }
   ],
   "source": [
    "df[\"city\"] = df[\"location\"].str.split(\", \", expand=True)[0]\r\n",
    "df"
   ]
  },
  {
   "cell_type": "markdown",
   "metadata": {},
   "source": [
    "## Change Display Options (Not Change Data)\r\n",
    "\r\n",
    "- Visit [Pandas Documentation - Options and settings](https://pandas.pydata.org/pandas-docs/stable/user_guide/options.html) for more options"
   ]
  },
  {
   "cell_type": "code",
   "execution_count": 114,
   "metadata": {},
   "outputs": [
    {
     "data": {
      "text/html": "<div>\n<style scoped>\n    .dataframe tbody tr th:only-of-type {\n        vertical-align: middle;\n    }\n\n    .dataframe tbody tr th {\n        vertical-align: top;\n    }\n\n    .dataframe thead th {\n        text-align: right;\n    }\n</style>\n<table border=\"1\" class=\"dataframe\">\n  <thead>\n    <tr style=\"text-align: right;\">\n      <th></th>\n      <th>0</th>\n      <th>1</th>\n      <th>2</th>\n      <th>3</th>\n      <th>4</th>\n    </tr>\n  </thead>\n  <tbody>\n    <tr>\n      <th>0</th>\n      <td>0.628433</td>\n      <td>0.776613</td>\n      <td>0.764794</td>\n      <td>0.198196</td>\n      <td>0.127071</td>\n    </tr>\n    <tr>\n      <th>1</th>\n      <td>0.465261</td>\n      <td>0.750787</td>\n      <td>0.764584</td>\n      <td>0.897555</td>\n      <td>0.614329</td>\n    </tr>\n    <tr>\n      <th>2</th>\n      <td>0.283257</td>\n      <td>0.151233</td>\n      <td>0.238085</td>\n      <td>0.266953</td>\n      <td>0.718190</td>\n    </tr>\n    <tr>\n      <th>3</th>\n      <td>0.767138</td>\n      <td>0.506526</td>\n      <td>0.506775</td>\n      <td>0.910796</td>\n      <td>0.122767</td>\n    </tr>\n    <tr>\n      <th>4</th>\n      <td>0.462400</td>\n      <td>0.889255</td>\n      <td>0.686951</td>\n      <td>0.506312</td>\n      <td>0.575809</td>\n    </tr>\n    <tr>\n      <th>5</th>\n      <td>0.884670</td>\n      <td>0.554091</td>\n      <td>0.597391</td>\n      <td>0.913574</td>\n      <td>0.214452</td>\n    </tr>\n  </tbody>\n</table>\n</div>",
      "text/plain": "          0         1         2         3         4\n0  0.628433  0.776613  0.764794  0.198196  0.127071\n1  0.465261  0.750787  0.764584  0.897555  0.614329\n2  0.283257  0.151233  0.238085  0.266953  0.718190\n3  0.767138  0.506526  0.506775  0.910796  0.122767\n4  0.462400  0.889255  0.686951  0.506312  0.575809\n5  0.884670  0.554091  0.597391  0.913574  0.214452"
     },
     "execution_count": 114,
     "metadata": {},
     "output_type": "execute_result"
    }
   ],
   "source": [
    "df = pd.DataFrame(np.random.rand(6, 5))\r\n",
    "df"
   ]
  },
  {
   "cell_type": "code",
   "execution_count": 115,
   "metadata": {},
   "outputs": [
    {
     "data": {
      "text/html": "<div>\n<style scoped>\n    .dataframe tbody tr th:only-of-type {\n        vertical-align: middle;\n    }\n\n    .dataframe tbody tr th {\n        vertical-align: top;\n    }\n\n    .dataframe thead th {\n        text-align: right;\n    }\n</style>\n<table border=\"1\" class=\"dataframe\">\n  <thead>\n    <tr style=\"text-align: right;\">\n      <th></th>\n      <th>0</th>\n      <th>1</th>\n      <th>2</th>\n      <th>3</th>\n      <th>4</th>\n    </tr>\n  </thead>\n  <tbody>\n    <tr>\n      <th>0</th>\n      <td>$0.63</td>\n      <td>$0.78</td>\n      <td>$0.76</td>\n      <td>$0.20</td>\n      <td>$0.13</td>\n    </tr>\n    <tr>\n      <th>1</th>\n      <td>$0.47</td>\n      <td>$0.75</td>\n      <td>$0.76</td>\n      <td>$0.90</td>\n      <td>$0.61</td>\n    </tr>\n    <tr>\n      <th>2</th>\n      <td>$0.28</td>\n      <td>$0.15</td>\n      <td>$0.24</td>\n      <td>$0.27</td>\n      <td>$0.72</td>\n    </tr>\n    <tr>\n      <th>3</th>\n      <td>$0.77</td>\n      <td>$0.51</td>\n      <td>$0.51</td>\n      <td>$0.91</td>\n      <td>$0.12</td>\n    </tr>\n    <tr>\n      <th>4</th>\n      <td>$0.46</td>\n      <td>$0.89</td>\n      <td>$0.69</td>\n      <td>$0.51</td>\n      <td>$0.58</td>\n    </tr>\n    <tr>\n      <th>5</th>\n      <td>$0.88</td>\n      <td>$0.55</td>\n      <td>$0.60</td>\n      <td>$0.91</td>\n      <td>$0.21</td>\n    </tr>\n  </tbody>\n</table>\n</div>",
      "text/plain": "      0     1     2     3     4\n0 $0.63 $0.78 $0.76 $0.20 $0.13\n1 $0.47 $0.75 $0.76 $0.90 $0.61\n2 $0.28 $0.15 $0.24 $0.27 $0.72\n3 $0.77 $0.51 $0.51 $0.91 $0.12\n4 $0.46 $0.89 $0.69 $0.51 $0.58\n5 $0.88 $0.55 $0.60 $0.91 $0.21"
     },
     "execution_count": 115,
     "metadata": {},
     "output_type": "execute_result"
    }
   ],
   "source": [
    "pd.set_option(\"display.float_format\", \"${:.2f}\".format)\r\n",
    "df"
   ]
  },
  {
   "cell_type": "code",
   "execution_count": 116,
   "metadata": {},
   "outputs": [],
   "source": [
    "pd.reset_option(\"display.float_format\")"
   ]
  },
  {
   "cell_type": "markdown",
   "metadata": {},
   "source": [
    "## Style a DataFrame"
   ]
  },
  {
   "cell_type": "code",
   "execution_count": 177,
   "metadata": {},
   "outputs": [
    {
     "data": {
      "text/html": "<div>\n<style scoped>\n    .dataframe tbody tr th:only-of-type {\n        vertical-align: middle;\n    }\n\n    .dataframe tbody tr th {\n        vertical-align: top;\n    }\n\n    .dataframe thead th {\n        text-align: right;\n    }\n</style>\n<table border=\"1\" class=\"dataframe\">\n  <thead>\n    <tr style=\"text-align: right;\">\n      <th></th>\n      <th>Date</th>\n      <th>Value</th>\n      <th>Area</th>\n      <th>Volume</th>\n    </tr>\n  </thead>\n  <tbody>\n    <tr>\n      <th>0</th>\n      <td>2021-01-01</td>\n      <td>27</td>\n      <td>8</td>\n      <td>1803258</td>\n    </tr>\n    <tr>\n      <th>1</th>\n      <td>2021-01-02</td>\n      <td>81</td>\n      <td>77</td>\n      <td>7965604</td>\n    </tr>\n    <tr>\n      <th>2</th>\n      <td>2021-01-03</td>\n      <td>72</td>\n      <td>65</td>\n      <td>6891143</td>\n    </tr>\n    <tr>\n      <th>3</th>\n      <td>2021-01-04</td>\n      <td>55</td>\n      <td>43</td>\n      <td>4949905</td>\n    </tr>\n    <tr>\n      <th>4</th>\n      <td>2021-01-05</td>\n      <td>54</td>\n      <td>43</td>\n      <td>4897137</td>\n    </tr>\n    <tr>\n      <th>5</th>\n      <td>2021-01-06</td>\n      <td>88</td>\n      <td>85</td>\n      <td>8727381</td>\n    </tr>\n    <tr>\n      <th>6</th>\n      <td>2021-01-07</td>\n      <td>26</td>\n      <td>8</td>\n      <td>1773510</td>\n    </tr>\n    <tr>\n      <th>7</th>\n      <td>2021-01-08</td>\n      <td>75</td>\n      <td>69</td>\n      <td>7276312</td>\n    </tr>\n    <tr>\n      <th>8</th>\n      <td>2021-01-09</td>\n      <td>36</td>\n      <td>20</td>\n      <td>2813225</td>\n    </tr>\n    <tr>\n      <th>9</th>\n      <td>2021-01-10</td>\n      <td>27</td>\n      <td>9</td>\n      <td>1847596</td>\n    </tr>\n  </tbody>\n</table>\n</div>",
      "text/plain": "        Date  Value  Area   Volume\n0 2021-01-01     27     8  1803258\n1 2021-01-02     81    77  7965604\n2 2021-01-03     72    65  6891143\n3 2021-01-04     55    43  4949905\n4 2021-01-05     54    43  4897137\n5 2021-01-06     88    85  8727381\n6 2021-01-07     26     8  1773510\n7 2021-01-08     75    69  7276312\n8 2021-01-09     36    20  2813225\n9 2021-01-10     27     9  1847596"
     },
     "execution_count": 177,
     "metadata": {},
     "output_type": "execute_result"
    }
   ],
   "source": [
    "df = pd.DataFrame(\r\n",
    "    {\r\n",
    "        \"Date\": pd.date_range(\"20210101\", periods=10),\r\n",
    "        \"Value\": np.random.default_rng(42).integers(low=20, high=100, size=10),\r\n",
    "        \"Area\": np.random.default_rng(42).integers(low=0, high=100, size=10),\r\n",
    "        \"Volume\": np.random.default_rng(42).integers(low=1000000, high=10000000, size=10),\r\n",
    "    }\r\n",
    ")\r\n",
    "df"
   ]
  },
  {
   "cell_type": "code",
   "execution_count": 175,
   "metadata": {},
   "outputs": [
    {
     "data": {
      "text/html": "<style  type=\"text/css\" >\n</style><table id=\"T_a3af8_\" ><thead>    <tr>        <th class=\"blank level0\" ></th>        <th class=\"col_heading level0 col0\" >Date</th>        <th class=\"col_heading level0 col1\" >Value</th>        <th class=\"col_heading level0 col2\" >Volume</th>        <th class=\"col_heading level0 col3\" >Area</th>    </tr></thead><tbody>\n                <tr>\n                        <th id=\"T_a3af8_level0_row0\" class=\"row_heading level0 row0\" >0</th>\n                        <td id=\"T_a3af8_row0_col0\" class=\"data row0 col0\" >2021/01/01</td>\n                        <td id=\"T_a3af8_row0_col1\" class=\"data row0 col1\" >$27</td>\n                        <td id=\"T_a3af8_row0_col2\" class=\"data row0 col2\" >1,803,258</td>\n                        <td id=\"T_a3af8_row0_col3\" class=\"data row0 col3\" >8</td>\n            </tr>\n            <tr>\n                        <th id=\"T_a3af8_level0_row1\" class=\"row_heading level0 row1\" >1</th>\n                        <td id=\"T_a3af8_row1_col0\" class=\"data row1 col0\" >2021/01/02</td>\n                        <td id=\"T_a3af8_row1_col1\" class=\"data row1 col1\" >$81</td>\n                        <td id=\"T_a3af8_row1_col2\" class=\"data row1 col2\" >7,965,604</td>\n                        <td id=\"T_a3af8_row1_col3\" class=\"data row1 col3\" >77</td>\n            </tr>\n            <tr>\n                        <th id=\"T_a3af8_level0_row2\" class=\"row_heading level0 row2\" >2</th>\n                        <td id=\"T_a3af8_row2_col0\" class=\"data row2 col0\" >2021/01/03</td>\n                        <td id=\"T_a3af8_row2_col1\" class=\"data row2 col1\" >$72</td>\n                        <td id=\"T_a3af8_row2_col2\" class=\"data row2 col2\" >6,891,143</td>\n                        <td id=\"T_a3af8_row2_col3\" class=\"data row2 col3\" >65</td>\n            </tr>\n            <tr>\n                        <th id=\"T_a3af8_level0_row3\" class=\"row_heading level0 row3\" >3</th>\n                        <td id=\"T_a3af8_row3_col0\" class=\"data row3 col0\" >2021/01/04</td>\n                        <td id=\"T_a3af8_row3_col1\" class=\"data row3 col1\" >$55</td>\n                        <td id=\"T_a3af8_row3_col2\" class=\"data row3 col2\" >4,949,905</td>\n                        <td id=\"T_a3af8_row3_col3\" class=\"data row3 col3\" >43</td>\n            </tr>\n            <tr>\n                        <th id=\"T_a3af8_level0_row4\" class=\"row_heading level0 row4\" >4</th>\n                        <td id=\"T_a3af8_row4_col0\" class=\"data row4 col0\" >2021/01/05</td>\n                        <td id=\"T_a3af8_row4_col1\" class=\"data row4 col1\" >$54</td>\n                        <td id=\"T_a3af8_row4_col2\" class=\"data row4 col2\" >4,897,137</td>\n                        <td id=\"T_a3af8_row4_col3\" class=\"data row4 col3\" >43</td>\n            </tr>\n            <tr>\n                        <th id=\"T_a3af8_level0_row5\" class=\"row_heading level0 row5\" >5</th>\n                        <td id=\"T_a3af8_row5_col0\" class=\"data row5 col0\" >2021/01/06</td>\n                        <td id=\"T_a3af8_row5_col1\" class=\"data row5 col1\" >$88</td>\n                        <td id=\"T_a3af8_row5_col2\" class=\"data row5 col2\" >8,727,381</td>\n                        <td id=\"T_a3af8_row5_col3\" class=\"data row5 col3\" >85</td>\n            </tr>\n            <tr>\n                        <th id=\"T_a3af8_level0_row6\" class=\"row_heading level0 row6\" >6</th>\n                        <td id=\"T_a3af8_row6_col0\" class=\"data row6 col0\" >2021/01/07</td>\n                        <td id=\"T_a3af8_row6_col1\" class=\"data row6 col1\" >$26</td>\n                        <td id=\"T_a3af8_row6_col2\" class=\"data row6 col2\" >1,773,510</td>\n                        <td id=\"T_a3af8_row6_col3\" class=\"data row6 col3\" >8</td>\n            </tr>\n            <tr>\n                        <th id=\"T_a3af8_level0_row7\" class=\"row_heading level0 row7\" >7</th>\n                        <td id=\"T_a3af8_row7_col0\" class=\"data row7 col0\" >2021/01/08</td>\n                        <td id=\"T_a3af8_row7_col1\" class=\"data row7 col1\" >$75</td>\n                        <td id=\"T_a3af8_row7_col2\" class=\"data row7 col2\" >7,276,312</td>\n                        <td id=\"T_a3af8_row7_col3\" class=\"data row7 col3\" >69</td>\n            </tr>\n            <tr>\n                        <th id=\"T_a3af8_level0_row8\" class=\"row_heading level0 row8\" >8</th>\n                        <td id=\"T_a3af8_row8_col0\" class=\"data row8 col0\" >2021/01/09</td>\n                        <td id=\"T_a3af8_row8_col1\" class=\"data row8 col1\" >$36</td>\n                        <td id=\"T_a3af8_row8_col2\" class=\"data row8 col2\" >2,813,225</td>\n                        <td id=\"T_a3af8_row8_col3\" class=\"data row8 col3\" >20</td>\n            </tr>\n            <tr>\n                        <th id=\"T_a3af8_level0_row9\" class=\"row_heading level0 row9\" >9</th>\n                        <td id=\"T_a3af8_row9_col0\" class=\"data row9 col0\" >2021/01/10</td>\n                        <td id=\"T_a3af8_row9_col1\" class=\"data row9 col1\" >$27</td>\n                        <td id=\"T_a3af8_row9_col2\" class=\"data row9 col2\" >1,847,596</td>\n                        <td id=\"T_a3af8_row9_col3\" class=\"data row9 col3\" >9</td>\n            </tr>\n    </tbody></table>",
      "text/plain": "<pandas.io.formats.style.Styler at 0x20198b511f0>"
     },
     "execution_count": 175,
     "metadata": {},
     "output_type": "execute_result"
    }
   ],
   "source": [
    "style = {\"Date\": \"{:%Y/%m/%d}\", \"Value\": \"${:d}\", \"Volume\": \"{:,}\"}\r\n",
    "df.style.format(style)\r\n"
   ]
  },
  {
   "cell_type": "code",
   "execution_count": 191,
   "metadata": {},
   "outputs": [
    {
     "data": {
      "text/html": "<style  type=\"text/css\" >\n#T_fd722_row0_col2,#T_fd722_row6_col2{\n            width:  10em;\n             height:  80%;\n            background:  linear-gradient(90deg, transparent 50.0%, orange 50.0%, orange 54.7%, transparent 54.7%);\n        }#T_fd722_row0_col3,#T_fd722_row9_col3{\n            background-color:  #f6fcf4;\n            color:  #000000;\n        }#T_fd722_row1_col2{\n            width:  10em;\n             height:  80%;\n            background:  linear-gradient(90deg, transparent 50.0%, orange 50.0%, orange 95.3%, transparent 95.3%);\n        }#T_fd722_row1_col3{\n            background-color:  #00682a;\n            color:  #f1f1f1;\n        }#T_fd722_row2_col2{\n            width:  10em;\n             height:  80%;\n            background:  linear-gradient(90deg, transparent 50.0%, orange 50.0%, orange 88.2%, transparent 88.2%);\n        }#T_fd722_row2_col3{\n            background-color:  #268e47;\n            color:  #000000;\n        }#T_fd722_row3_col2,#T_fd722_row4_col2{\n            width:  10em;\n             height:  80%;\n            background:  linear-gradient(90deg, transparent 50.0%, orange 50.0%, orange 75.3%, transparent 75.3%);\n        }#T_fd722_row3_col3{\n            background-color:  #84cc83;\n            color:  #000000;\n        }#T_fd722_row4_col3{\n            background-color:  #87cd86;\n            color:  #000000;\n        }#T_fd722_row5_col1{\n            background-color:  red;\n        }#T_fd722_row5_col2{\n            width:  10em;\n             height:  80%;\n            background:  linear-gradient(90deg, transparent 50.0%, orange 50.0%, orange 100.0%, transparent 100.0%);\n        }#T_fd722_row5_col3{\n            background-color:  #00441b;\n            color:  #f1f1f1;\n        }#T_fd722_row6_col1{\n            background-color:  green;\n        }#T_fd722_row6_col3{\n            background-color:  #f7fcf5;\n            color:  #000000;\n        }#T_fd722_row7_col2{\n            width:  10em;\n             height:  80%;\n            background:  linear-gradient(90deg, transparent 50.0%, orange 50.0%, orange 90.6%, transparent 90.6%);\n        }#T_fd722_row7_col3{\n            background-color:  #17813d;\n            color:  #f1f1f1;\n        }#T_fd722_row8_col2{\n            width:  10em;\n             height:  80%;\n            background:  linear-gradient(90deg, transparent 50.0%, orange 50.0%, orange 61.8%, transparent 61.8%);\n        }#T_fd722_row8_col3{\n            background-color:  #dff3da;\n            color:  #000000;\n        }#T_fd722_row9_col2{\n            width:  10em;\n             height:  80%;\n            background:  linear-gradient(90deg, transparent 50.0%, orange 50.0%, orange 55.3%, transparent 55.3%);\n        }</style><table id=\"T_fd722_\" ><caption>Random Chart</caption><thead>    <tr>        <th class=\"col_heading level0 col0\" >Date</th>        <th class=\"col_heading level0 col1\" >Value</th>        <th class=\"col_heading level0 col2\" >Area</th>        <th class=\"col_heading level0 col3\" >Volume</th>    </tr></thead><tbody>\n                <tr>\n                                <td id=\"T_fd722_row0_col0\" class=\"data row0 col0\" >2021/01/01</td>\n                        <td id=\"T_fd722_row0_col1\" class=\"data row0 col1\" >$27</td>\n                        <td id=\"T_fd722_row0_col2\" class=\"data row0 col2\" >8</td>\n                        <td id=\"T_fd722_row0_col3\" class=\"data row0 col3\" >1,803,258</td>\n            </tr>\n            <tr>\n                                <td id=\"T_fd722_row1_col0\" class=\"data row1 col0\" >2021/01/02</td>\n                        <td id=\"T_fd722_row1_col1\" class=\"data row1 col1\" >$81</td>\n                        <td id=\"T_fd722_row1_col2\" class=\"data row1 col2\" >77</td>\n                        <td id=\"T_fd722_row1_col3\" class=\"data row1 col3\" >7,965,604</td>\n            </tr>\n            <tr>\n                                <td id=\"T_fd722_row2_col0\" class=\"data row2 col0\" >2021/01/03</td>\n                        <td id=\"T_fd722_row2_col1\" class=\"data row2 col1\" >$72</td>\n                        <td id=\"T_fd722_row2_col2\" class=\"data row2 col2\" >65</td>\n                        <td id=\"T_fd722_row2_col3\" class=\"data row2 col3\" >6,891,143</td>\n            </tr>\n            <tr>\n                                <td id=\"T_fd722_row3_col0\" class=\"data row3 col0\" >2021/01/04</td>\n                        <td id=\"T_fd722_row3_col1\" class=\"data row3 col1\" >$55</td>\n                        <td id=\"T_fd722_row3_col2\" class=\"data row3 col2\" >43</td>\n                        <td id=\"T_fd722_row3_col3\" class=\"data row3 col3\" >4,949,905</td>\n            </tr>\n            <tr>\n                                <td id=\"T_fd722_row4_col0\" class=\"data row4 col0\" >2021/01/05</td>\n                        <td id=\"T_fd722_row4_col1\" class=\"data row4 col1\" >$54</td>\n                        <td id=\"T_fd722_row4_col2\" class=\"data row4 col2\" >43</td>\n                        <td id=\"T_fd722_row4_col3\" class=\"data row4 col3\" >4,897,137</td>\n            </tr>\n            <tr>\n                                <td id=\"T_fd722_row5_col0\" class=\"data row5 col0\" >2021/01/06</td>\n                        <td id=\"T_fd722_row5_col1\" class=\"data row5 col1\" >$88</td>\n                        <td id=\"T_fd722_row5_col2\" class=\"data row5 col2\" >85</td>\n                        <td id=\"T_fd722_row5_col3\" class=\"data row5 col3\" >8,727,381</td>\n            </tr>\n            <tr>\n                                <td id=\"T_fd722_row6_col0\" class=\"data row6 col0\" >2021/01/07</td>\n                        <td id=\"T_fd722_row6_col1\" class=\"data row6 col1\" >$26</td>\n                        <td id=\"T_fd722_row6_col2\" class=\"data row6 col2\" >8</td>\n                        <td id=\"T_fd722_row6_col3\" class=\"data row6 col3\" >1,773,510</td>\n            </tr>\n            <tr>\n                                <td id=\"T_fd722_row7_col0\" class=\"data row7 col0\" >2021/01/08</td>\n                        <td id=\"T_fd722_row7_col1\" class=\"data row7 col1\" >$75</td>\n                        <td id=\"T_fd722_row7_col2\" class=\"data row7 col2\" >69</td>\n                        <td id=\"T_fd722_row7_col3\" class=\"data row7 col3\" >7,276,312</td>\n            </tr>\n            <tr>\n                                <td id=\"T_fd722_row8_col0\" class=\"data row8 col0\" >2021/01/09</td>\n                        <td id=\"T_fd722_row8_col1\" class=\"data row8 col1\" >$36</td>\n                        <td id=\"T_fd722_row8_col2\" class=\"data row8 col2\" >20</td>\n                        <td id=\"T_fd722_row8_col3\" class=\"data row8 col3\" >2,813,225</td>\n            </tr>\n            <tr>\n                                <td id=\"T_fd722_row9_col0\" class=\"data row9 col0\" >2021/01/10</td>\n                        <td id=\"T_fd722_row9_col1\" class=\"data row9 col1\" >$27</td>\n                        <td id=\"T_fd722_row9_col2\" class=\"data row9 col2\" >9</td>\n                        <td id=\"T_fd722_row9_col3\" class=\"data row9 col3\" >1,847,596</td>\n            </tr>\n    </tbody></table>",
      "text/plain": "<pandas.io.formats.style.Styler at 0x2019983bfa0>"
     },
     "execution_count": 191,
     "metadata": {},
     "output_type": "execute_result"
    }
   ],
   "source": [
    "df.style.format(style) \\\r\n",
    "    .hide_index() \\\r\n",
    "    .highlight_max(\"Value\", color=\"red\") \\\r\n",
    "    .highlight_min(\"Value\", color=\"green\") \\\r\n",
    "    .bar(\"Area\", color=\"orange\", align=\"zero\") \\\r\n",
    "    .background_gradient(subset=\"Volume\", cmap=\"Greens\") \\\r\n",
    "    .set_caption(\"Random Chart\")\r\n"
   ]
  },
  {
   "cell_type": "markdown",
   "metadata": {},
   "source": [
    "# Reference\r\n",
    "\r\n",
    "- https://www.youtube.com/watch?v=RlIiVeig3hc"
   ]
  }
 ],
 "metadata": {
  "language_info": {
   "name": "python",
   "nbconvert_exporter": "python"
  },
  "orig_nbformat": 2
 },
 "nbformat": 4,
 "nbformat_minor": 2
}