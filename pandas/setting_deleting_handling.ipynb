{
 "cells": [
  {
   "cell_type": "markdown",
   "metadata": {},
   "source": [
    "# Setting, Deleting, and Handling"
   ]
  },
  {
   "cell_type": "code",
   "execution_count": 138,
   "metadata": {},
   "outputs": [],
   "source": [
    "import numpy as np\r\n",
    "import pandas as pd"
   ]
  },
  {
   "cell_type": "code",
   "execution_count": 139,
   "metadata": {},
   "outputs": [
    {
     "data": {
      "text/html": "<div>\n<style scoped>\n    .dataframe tbody tr th:only-of-type {\n        vertical-align: middle;\n    }\n\n    .dataframe tbody tr th {\n        vertical-align: top;\n    }\n\n    .dataframe thead th {\n        text-align: right;\n    }\n</style>\n<table border=\"1\" class=\"dataframe\">\n  <thead>\n    <tr style=\"text-align: right;\">\n      <th></th>\n      <th>col1</th>\n      <th>col2</th>\n      <th>col3</th>\n      <th>col4</th>\n      <th>col5</th>\n    </tr>\n  </thead>\n  <tbody>\n    <tr>\n      <th>a</th>\n      <td>0</td>\n      <td>1</td>\n      <td>2</td>\n      <td>3</td>\n      <td>4</td>\n    </tr>\n    <tr>\n      <th>b</th>\n      <td>5</td>\n      <td>6</td>\n      <td>7</td>\n      <td>8</td>\n      <td>9</td>\n    </tr>\n    <tr>\n      <th>c</th>\n      <td>10</td>\n      <td>11</td>\n      <td>12</td>\n      <td>13</td>\n      <td>14</td>\n    </tr>\n    <tr>\n      <th>d</th>\n      <td>15</td>\n      <td>16</td>\n      <td>17</td>\n      <td>18</td>\n      <td>19</td>\n    </tr>\n    <tr>\n      <th>e</th>\n      <td>20</td>\n      <td>21</td>\n      <td>22</td>\n      <td>23</td>\n      <td>24</td>\n    </tr>\n    <tr>\n      <th>f</th>\n      <td>25</td>\n      <td>26</td>\n      <td>27</td>\n      <td>28</td>\n      <td>29</td>\n    </tr>\n  </tbody>\n</table>\n</div>",
      "text/plain": "   col1  col2  col3  col4  col5\na     0     1     2     3     4\nb     5     6     7     8     9\nc    10    11    12    13    14\nd    15    16    17    18    19\ne    20    21    22    23    24\nf    25    26    27    28    29"
     },
     "execution_count": 139,
     "metadata": {},
     "output_type": "execute_result"
    }
   ],
   "source": [
    "df = pd.DataFrame(\r\n",
    "    np.arange(30).reshape(6, 5),\r\n",
    "    index=list(\"abcdef\"),\r\n",
    "    columns=[f\"col{i}\" for i in range(1, 6)]\r\n",
    ")\r\n",
    "df"
   ]
  },
  {
   "cell_type": "markdown",
   "metadata": {},
   "source": [
    "## Setting"
   ]
  },
  {
   "cell_type": "markdown",
   "metadata": {},
   "source": [
    "### Modify Multiple Values"
   ]
  },
  {
   "cell_type": "code",
   "execution_count": 140,
   "metadata": {},
   "outputs": [
    {
     "data": {
      "text/html": "<div>\n<style scoped>\n    .dataframe tbody tr th:only-of-type {\n        vertical-align: middle;\n    }\n\n    .dataframe tbody tr th {\n        vertical-align: top;\n    }\n\n    .dataframe thead th {\n        text-align: right;\n    }\n</style>\n<table border=\"1\" class=\"dataframe\">\n  <thead>\n    <tr style=\"text-align: right;\">\n      <th></th>\n      <th>col1</th>\n      <th>col2</th>\n      <th>col3</th>\n      <th>col4</th>\n      <th>col5</th>\n    </tr>\n  </thead>\n  <tbody>\n    <tr>\n      <th>a</th>\n      <td>0</td>\n      <td>1803</td>\n      <td>10000</td>\n      <td>3</td>\n      <td>7964</td>\n    </tr>\n    <tr>\n      <th>b</th>\n      <td>50</td>\n      <td>6890</td>\n      <td>10001</td>\n      <td>8</td>\n      <td>4949</td>\n    </tr>\n    <tr>\n      <th>c</th>\n      <td>100</td>\n      <td>4896</td>\n      <td>10002</td>\n      <td>13</td>\n      <td>8726</td>\n    </tr>\n    <tr>\n      <th>d</th>\n      <td>150</td>\n      <td>1773</td>\n      <td>10003</td>\n      <td>18</td>\n      <td>7275</td>\n    </tr>\n    <tr>\n      <th>e</th>\n      <td>200</td>\n      <td>2813</td>\n      <td>10004</td>\n      <td>23</td>\n      <td>1847</td>\n    </tr>\n    <tr>\n      <th>f</th>\n      <td>250</td>\n      <td>5737</td>\n      <td>10005</td>\n      <td>28</td>\n      <td>9779</td>\n    </tr>\n  </tbody>\n</table>\n</div>",
      "text/plain": "   col1  col2   col3  col4  col5\na     0  1803  10000     3  7964\nb    50  6890  10001     8  4949\nc   100  4896  10002    13  8726\nd   150  1773  10003    18  7275\ne   200  2813  10004    23  1847\nf   250  5737  10005    28  9779"
     },
     "execution_count": 140,
     "metadata": {},
     "output_type": "execute_result"
    }
   ],
   "source": [
    "df[\"col1\"] *= 10\r\n",
    "df.loc[:, [\"col2\", \"col5\"]] = np.random.default_rng(42).integers(1000, 9999, size=(6, 2))\r\n",
    "df.loc[:, \"col3\"] = [i for i in range(10000, 10006)]\r\n",
    "df"
   ]
  },
  {
   "cell_type": "markdown",
   "metadata": {},
   "source": [
    "### Modify Single Value"
   ]
  },
  {
   "cell_type": "code",
   "execution_count": 141,
   "metadata": {},
   "outputs": [
    {
     "data": {
      "text/html": "<div>\n<style scoped>\n    .dataframe tbody tr th:only-of-type {\n        vertical-align: middle;\n    }\n\n    .dataframe tbody tr th {\n        vertical-align: top;\n    }\n\n    .dataframe thead th {\n        text-align: right;\n    }\n</style>\n<table border=\"1\" class=\"dataframe\">\n  <thead>\n    <tr style=\"text-align: right;\">\n      <th></th>\n      <th>col1</th>\n      <th>col2</th>\n      <th>col3</th>\n      <th>col4</th>\n      <th>col5</th>\n    </tr>\n  </thead>\n  <tbody>\n    <tr>\n      <th>a</th>\n      <td>0</td>\n      <td>1803</td>\n      <td>10000</td>\n      <td>999</td>\n      <td>7964</td>\n    </tr>\n    <tr>\n      <th>b</th>\n      <td>50</td>\n      <td>6890</td>\n      <td>10001</td>\n      <td>8888</td>\n      <td>4949</td>\n    </tr>\n    <tr>\n      <th>c</th>\n      <td>100</td>\n      <td>4896</td>\n      <td>10002</td>\n      <td>77777</td>\n      <td>8726</td>\n    </tr>\n    <tr>\n      <th>d</th>\n      <td>150</td>\n      <td>1773</td>\n      <td>10003</td>\n      <td>666666</td>\n      <td>7275</td>\n    </tr>\n    <tr>\n      <th>e</th>\n      <td>200</td>\n      <td>2813</td>\n      <td>10004</td>\n      <td>23</td>\n      <td>1847</td>\n    </tr>\n    <tr>\n      <th>f</th>\n      <td>250</td>\n      <td>5737</td>\n      <td>10005</td>\n      <td>28</td>\n      <td>9779</td>\n    </tr>\n  </tbody>\n</table>\n</div>",
      "text/plain": "   col1  col2   col3    col4  col5\na     0  1803  10000     999  7964\nb    50  6890  10001    8888  4949\nc   100  4896  10002   77777  8726\nd   150  1773  10003  666666  7275\ne   200  2813  10004      23  1847\nf   250  5737  10005      28  9779"
     },
     "execution_count": 141,
     "metadata": {},
     "output_type": "execute_result"
    }
   ],
   "source": [
    "df.loc[\"a\", \"col4\"] = 999\r\n",
    "df.iloc[1, 3] = 8888\r\n",
    "df.at[\"c\", \"col4\"] = 77777\r\n",
    "df.iat[3, 3] = 666666\r\n",
    "df"
   ]
  },
  {
   "cell_type": "markdown",
   "metadata": {},
   "source": [
    "### Modify by Boolean Indexing"
   ]
  },
  {
   "cell_type": "code",
   "execution_count": 142,
   "metadata": {},
   "outputs": [
    {
     "data": {
      "text/html": "<div>\n<style scoped>\n    .dataframe tbody tr th:only-of-type {\n        vertical-align: middle;\n    }\n\n    .dataframe tbody tr th {\n        vertical-align: top;\n    }\n\n    .dataframe thead th {\n        text-align: right;\n    }\n</style>\n<table border=\"1\" class=\"dataframe\">\n  <thead>\n    <tr style=\"text-align: right;\">\n      <th></th>\n      <th>col1</th>\n      <th>col2</th>\n      <th>col3</th>\n      <th>col4</th>\n      <th>col5</th>\n    </tr>\n  </thead>\n  <tbody>\n    <tr>\n      <th>a</th>\n      <td>0</td>\n      <td>1803</td>\n      <td>10000</td>\n      <td>999</td>\n      <td>7964</td>\n    </tr>\n    <tr>\n      <th>b</th>\n      <td>-50</td>\n      <td>6890</td>\n      <td>10001</td>\n      <td>8888</td>\n      <td>4949</td>\n    </tr>\n    <tr>\n      <th>c</th>\n      <td>100</td>\n      <td>4896</td>\n      <td>10002</td>\n      <td>77777</td>\n      <td>8726</td>\n    </tr>\n    <tr>\n      <th>d</th>\n      <td>150</td>\n      <td>1773</td>\n      <td>10003</td>\n      <td>666666</td>\n      <td>7275</td>\n    </tr>\n    <tr>\n      <th>e</th>\n      <td>200</td>\n      <td>2813</td>\n      <td>10004</td>\n      <td>-23</td>\n      <td>1847</td>\n    </tr>\n    <tr>\n      <th>f</th>\n      <td>250</td>\n      <td>5737</td>\n      <td>10005</td>\n      <td>-28</td>\n      <td>9779</td>\n    </tr>\n  </tbody>\n</table>\n</div>",
      "text/plain": "   col1  col2   col3    col4  col5\na     0  1803  10000     999  7964\nb   -50  6890  10001    8888  4949\nc   100  4896  10002   77777  8726\nd   150  1773  10003  666666  7275\ne   200  2813  10004     -23  1847\nf   250  5737  10005     -28  9779"
     },
     "execution_count": 142,
     "metadata": {},
     "output_type": "execute_result"
    }
   ],
   "source": [
    "df[df < 100] = -df\r\n",
    "df"
   ]
  },
  {
   "cell_type": "markdown",
   "metadata": {},
   "source": [
    "### Append"
   ]
  },
  {
   "cell_type": "code",
   "execution_count": 143,
   "metadata": {},
   "outputs": [
    {
     "data": {
      "text/html": "<div>\n<style scoped>\n    .dataframe tbody tr th:only-of-type {\n        vertical-align: middle;\n    }\n\n    .dataframe tbody tr th {\n        vertical-align: top;\n    }\n\n    .dataframe thead th {\n        text-align: right;\n    }\n</style>\n<table border=\"1\" class=\"dataframe\">\n  <thead>\n    <tr style=\"text-align: right;\">\n      <th></th>\n      <th>col1</th>\n      <th>col2</th>\n      <th>col3</th>\n      <th>col4</th>\n      <th>col5</th>\n      <th>total</th>\n      <th>gt50000</th>\n      <th>foo</th>\n    </tr>\n  </thead>\n  <tbody>\n    <tr>\n      <th>a</th>\n      <td>0</td>\n      <td>1803</td>\n      <td>10000</td>\n      <td>999</td>\n      <td>7964</td>\n      <td>20766</td>\n      <td>False</td>\n      <td>bar</td>\n    </tr>\n    <tr>\n      <th>b</th>\n      <td>-50</td>\n      <td>6890</td>\n      <td>10001</td>\n      <td>8888</td>\n      <td>4949</td>\n      <td>30678</td>\n      <td>False</td>\n      <td>bar</td>\n    </tr>\n    <tr>\n      <th>c</th>\n      <td>100</td>\n      <td>4896</td>\n      <td>10002</td>\n      <td>77777</td>\n      <td>8726</td>\n      <td>101501</td>\n      <td>True</td>\n      <td>bar</td>\n    </tr>\n    <tr>\n      <th>d</th>\n      <td>150</td>\n      <td>1773</td>\n      <td>10003</td>\n      <td>666666</td>\n      <td>7275</td>\n      <td>685867</td>\n      <td>True</td>\n      <td>bar</td>\n    </tr>\n    <tr>\n      <th>e</th>\n      <td>200</td>\n      <td>2813</td>\n      <td>10004</td>\n      <td>-23</td>\n      <td>1847</td>\n      <td>14841</td>\n      <td>False</td>\n      <td>bar</td>\n    </tr>\n    <tr>\n      <th>f</th>\n      <td>250</td>\n      <td>5737</td>\n      <td>10005</td>\n      <td>-28</td>\n      <td>9779</td>\n      <td>25743</td>\n      <td>False</td>\n      <td>bar</td>\n    </tr>\n  </tbody>\n</table>\n</div>",
      "text/plain": "   col1  col2   col3    col4  col5   total  gt50000  foo\na     0  1803  10000     999  7964   20766    False  bar\nb   -50  6890  10001    8888  4949   30678    False  bar\nc   100  4896  10002   77777  8726  101501     True  bar\nd   150  1773  10003  666666  7275  685867     True  bar\ne   200  2813  10004     -23  1847   14841    False  bar\nf   250  5737  10005     -28  9779   25743    False  bar"
     },
     "execution_count": 143,
     "metadata": {},
     "output_type": "execute_result"
    }
   ],
   "source": [
    "df[\"total\"] = df.sum(axis=1).to_numpy()\r\n",
    "df[\"gt50000\"] = df[\"total\"] > 50000\r\n",
    "df[\"foo\"] = \"bar\"\r\n",
    "df"
   ]
  },
  {
   "cell_type": "markdown",
   "metadata": {},
   "source": [
    "### Insert"
   ]
  },
  {
   "cell_type": "code",
   "execution_count": 144,
   "metadata": {},
   "outputs": [
    {
     "data": {
      "text/html": "<div>\n<style scoped>\n    .dataframe tbody tr th:only-of-type {\n        vertical-align: middle;\n    }\n\n    .dataframe tbody tr th {\n        vertical-align: top;\n    }\n\n    .dataframe thead th {\n        text-align: right;\n    }\n</style>\n<table border=\"1\" class=\"dataframe\">\n  <thead>\n    <tr style=\"text-align: right;\">\n      <th></th>\n      <th>col0</th>\n      <th>col1</th>\n      <th>col2</th>\n      <th>col3</th>\n      <th>col4</th>\n      <th>col5</th>\n      <th>total</th>\n      <th>gt50000</th>\n      <th>foo</th>\n    </tr>\n  </thead>\n  <tbody>\n    <tr>\n      <th>a</th>\n      <td>1803.0</td>\n      <td>0</td>\n      <td>1803</td>\n      <td>10000</td>\n      <td>999</td>\n      <td>7964</td>\n      <td>20766</td>\n      <td>False</td>\n      <td>bar</td>\n    </tr>\n    <tr>\n      <th>b</th>\n      <td>6890.0</td>\n      <td>-50</td>\n      <td>6890</td>\n      <td>10001</td>\n      <td>8888</td>\n      <td>4949</td>\n      <td>30678</td>\n      <td>False</td>\n      <td>bar</td>\n    </tr>\n    <tr>\n      <th>c</th>\n      <td>NaN</td>\n      <td>100</td>\n      <td>4896</td>\n      <td>10002</td>\n      <td>77777</td>\n      <td>8726</td>\n      <td>101501</td>\n      <td>True</td>\n      <td>bar</td>\n    </tr>\n    <tr>\n      <th>d</th>\n      <td>NaN</td>\n      <td>150</td>\n      <td>1773</td>\n      <td>10003</td>\n      <td>666666</td>\n      <td>7275</td>\n      <td>685867</td>\n      <td>True</td>\n      <td>bar</td>\n    </tr>\n    <tr>\n      <th>e</th>\n      <td>NaN</td>\n      <td>200</td>\n      <td>2813</td>\n      <td>10004</td>\n      <td>-23</td>\n      <td>1847</td>\n      <td>14841</td>\n      <td>False</td>\n      <td>bar</td>\n    </tr>\n    <tr>\n      <th>f</th>\n      <td>NaN</td>\n      <td>250</td>\n      <td>5737</td>\n      <td>10005</td>\n      <td>-28</td>\n      <td>9779</td>\n      <td>25743</td>\n      <td>False</td>\n      <td>bar</td>\n    </tr>\n  </tbody>\n</table>\n</div>",
      "text/plain": "     col0  col1  col2   col3    col4  col5   total  gt50000  foo\na  1803.0     0  1803  10000     999  7964   20766    False  bar\nb  6890.0   -50  6890  10001    8888  4949   30678    False  bar\nc     NaN   100  4896  10002   77777  8726  101501     True  bar\nd     NaN   150  1773  10003  666666  7275  685867     True  bar\ne     NaN   200  2813  10004     -23  1847   14841    False  bar\nf     NaN   250  5737  10005     -28  9779   25743    False  bar"
     },
     "execution_count": 144,
     "metadata": {},
     "output_type": "execute_result"
    }
   ],
   "source": [
    "df.insert(0, \"col0\", df[\"col2\"][:2]) # column_index, col_name, values\r\n",
    "df"
   ]
  },
  {
   "cell_type": "markdown",
   "metadata": {},
   "source": [
    "## Deleting"
   ]
  },
  {
   "cell_type": "markdown",
   "metadata": {},
   "source": [
    "### Delete Column"
   ]
  },
  {
   "cell_type": "code",
   "execution_count": 145,
   "metadata": {},
   "outputs": [
    {
     "data": {
      "text/html": "<div>\n<style scoped>\n    .dataframe tbody tr th:only-of-type {\n        vertical-align: middle;\n    }\n\n    .dataframe tbody tr th {\n        vertical-align: top;\n    }\n\n    .dataframe thead th {\n        text-align: right;\n    }\n</style>\n<table border=\"1\" class=\"dataframe\">\n  <thead>\n    <tr style=\"text-align: right;\">\n      <th></th>\n      <th>col0</th>\n      <th>col1</th>\n      <th>col2</th>\n      <th>col3</th>\n      <th>col4</th>\n      <th>col5</th>\n    </tr>\n  </thead>\n  <tbody>\n    <tr>\n      <th>a</th>\n      <td>1803.0</td>\n      <td>0</td>\n      <td>1803</td>\n      <td>10000</td>\n      <td>999</td>\n      <td>7964</td>\n    </tr>\n    <tr>\n      <th>b</th>\n      <td>6890.0</td>\n      <td>-50</td>\n      <td>6890</td>\n      <td>10001</td>\n      <td>8888</td>\n      <td>4949</td>\n    </tr>\n    <tr>\n      <th>c</th>\n      <td>NaN</td>\n      <td>100</td>\n      <td>4896</td>\n      <td>10002</td>\n      <td>77777</td>\n      <td>8726</td>\n    </tr>\n    <tr>\n      <th>d</th>\n      <td>NaN</td>\n      <td>150</td>\n      <td>1773</td>\n      <td>10003</td>\n      <td>666666</td>\n      <td>7275</td>\n    </tr>\n    <tr>\n      <th>e</th>\n      <td>NaN</td>\n      <td>200</td>\n      <td>2813</td>\n      <td>10004</td>\n      <td>-23</td>\n      <td>1847</td>\n    </tr>\n    <tr>\n      <th>f</th>\n      <td>NaN</td>\n      <td>250</td>\n      <td>5737</td>\n      <td>10005</td>\n      <td>-28</td>\n      <td>9779</td>\n    </tr>\n  </tbody>\n</table>\n</div>",
      "text/plain": "     col0  col1  col2   col3    col4  col5\na  1803.0     0  1803  10000     999  7964\nb  6890.0   -50  6890  10001    8888  4949\nc     NaN   100  4896  10002   77777  8726\nd     NaN   150  1773  10003  666666  7275\ne     NaN   200  2813  10004     -23  1847\nf     NaN   250  5737  10005     -28  9779"
     },
     "execution_count": 145,
     "metadata": {},
     "output_type": "execute_result"
    }
   ],
   "source": [
    "del df[\"total\"]\r\n",
    "df.drop(columns=[\"foo\"], inplace=True)  # same as `df.drop([\"foo\"], axis=1)`\r\n",
    "gt50000 = df.pop(\"gt50000\")\r\n",
    "df"
   ]
  },
  {
   "cell_type": "markdown",
   "metadata": {},
   "source": [
    "### Delete Row"
   ]
  },
  {
   "cell_type": "code",
   "execution_count": 146,
   "metadata": {},
   "outputs": [
    {
     "data": {
      "text/html": "<div>\n<style scoped>\n    .dataframe tbody tr th:only-of-type {\n        vertical-align: middle;\n    }\n\n    .dataframe tbody tr th {\n        vertical-align: top;\n    }\n\n    .dataframe thead th {\n        text-align: right;\n    }\n</style>\n<table border=\"1\" class=\"dataframe\">\n  <thead>\n    <tr style=\"text-align: right;\">\n      <th></th>\n      <th>col0</th>\n      <th>col1</th>\n      <th>col2</th>\n      <th>col3</th>\n      <th>col4</th>\n      <th>col5</th>\n    </tr>\n  </thead>\n  <tbody>\n    <tr>\n      <th>a</th>\n      <td>1803.0</td>\n      <td>0</td>\n      <td>1803</td>\n      <td>10000</td>\n      <td>999</td>\n      <td>7964</td>\n    </tr>\n    <tr>\n      <th>b</th>\n      <td>6890.0</td>\n      <td>-50</td>\n      <td>6890</td>\n      <td>10001</td>\n      <td>8888</td>\n      <td>4949</td>\n    </tr>\n    <tr>\n      <th>c</th>\n      <td>NaN</td>\n      <td>100</td>\n      <td>4896</td>\n      <td>10002</td>\n      <td>77777</td>\n      <td>8726</td>\n    </tr>\n    <tr>\n      <th>f</th>\n      <td>NaN</td>\n      <td>250</td>\n      <td>5737</td>\n      <td>10005</td>\n      <td>-28</td>\n      <td>9779</td>\n    </tr>\n  </tbody>\n</table>\n</div>",
      "text/plain": "     col0  col1  col2   col3   col4  col5\na  1803.0     0  1803  10000    999  7964\nb  6890.0   -50  6890  10001   8888  4949\nc     NaN   100  4896  10002  77777  8726\nf     NaN   250  5737  10005    -28  9779"
     },
     "execution_count": 146,
     "metadata": {},
     "output_type": "execute_result"
    }
   ],
   "source": [
    "df.drop(\"f\")\r\n",
    "df.drop([\"e\", \"d\"], inplace=True)\r\n",
    "df"
   ]
  },
  {
   "cell_type": "markdown",
   "metadata": {},
   "source": [
    "## Handling Missing Data (NaN)"
   ]
  },
  {
   "cell_type": "markdown",
   "metadata": {},
   "source": [
    "### Dropna\r\n",
    "\r\n",
    "`df.dropna(how)` can drop any rows that have missing data.\r\n",
    "\r\n",
    "- how=`any` (default) : If any NA values are present, drop that row or column.\r\n",
    "- how=`all` : If all values are NA, drop that row or column."
   ]
  },
  {
   "cell_type": "code",
   "execution_count": 158,
   "metadata": {},
   "outputs": [
    {
     "data": {
      "text/html": "<div>\n<style scoped>\n    .dataframe tbody tr th:only-of-type {\n        vertical-align: middle;\n    }\n\n    .dataframe tbody tr th {\n        vertical-align: top;\n    }\n\n    .dataframe thead th {\n        text-align: right;\n    }\n</style>\n<table border=\"1\" class=\"dataframe\">\n  <thead>\n    <tr style=\"text-align: right;\">\n      <th></th>\n      <th>col0</th>\n      <th>col1</th>\n      <th>col2</th>\n      <th>col3</th>\n      <th>col4</th>\n      <th>col5</th>\n    </tr>\n  </thead>\n  <tbody>\n    <tr>\n      <th>a</th>\n      <td>1803.0</td>\n      <td>0</td>\n      <td>1803</td>\n      <td>10000</td>\n      <td>999</td>\n      <td>7964</td>\n    </tr>\n    <tr>\n      <th>b</th>\n      <td>6890.0</td>\n      <td>-50</td>\n      <td>6890</td>\n      <td>10001</td>\n      <td>8888</td>\n      <td>4949</td>\n    </tr>\n  </tbody>\n</table>\n</div>",
      "text/plain": "     col0  col1  col2   col3  col4  col5\na  1803.0     0  1803  10000   999  7964\nb  6890.0   -50  6890  10001  8888  4949"
     },
     "execution_count": 158,
     "metadata": {},
     "output_type": "execute_result"
    }
   ],
   "source": [
    "miss_df = df.copy()\r\n",
    "miss_df.dropna(how='any')"
   ]
  },
  {
   "cell_type": "markdown",
   "metadata": {},
   "source": [
    "### Fillna\r\n",
    "\r\n",
    "`df.fillna(value)` can fill any NaN element with new value."
   ]
  },
  {
   "cell_type": "code",
   "execution_count": 160,
   "metadata": {},
   "outputs": [
    {
     "data": {
      "text/html": "<div>\n<style scoped>\n    .dataframe tbody tr th:only-of-type {\n        vertical-align: middle;\n    }\n\n    .dataframe tbody tr th {\n        vertical-align: top;\n    }\n\n    .dataframe thead th {\n        text-align: right;\n    }\n</style>\n<table border=\"1\" class=\"dataframe\">\n  <thead>\n    <tr style=\"text-align: right;\">\n      <th></th>\n      <th>col0</th>\n      <th>col1</th>\n      <th>col2</th>\n      <th>col3</th>\n      <th>col4</th>\n      <th>col5</th>\n    </tr>\n  </thead>\n  <tbody>\n    <tr>\n      <th>a</th>\n      <td>1803.0</td>\n      <td>0</td>\n      <td>1803</td>\n      <td>10000</td>\n      <td>999</td>\n      <td>7964</td>\n    </tr>\n    <tr>\n      <th>b</th>\n      <td>6890.0</td>\n      <td>-50</td>\n      <td>6890</td>\n      <td>10001</td>\n      <td>8888</td>\n      <td>4949</td>\n    </tr>\n    <tr>\n      <th>c</th>\n      <td>10000000.0</td>\n      <td>100</td>\n      <td>4896</td>\n      <td>10002</td>\n      <td>77777</td>\n      <td>8726</td>\n    </tr>\n    <tr>\n      <th>f</th>\n      <td>10000000.0</td>\n      <td>250</td>\n      <td>5737</td>\n      <td>10005</td>\n      <td>-28</td>\n      <td>9779</td>\n    </tr>\n  </tbody>\n</table>\n</div>",
      "text/plain": "         col0  col1  col2   col3   col4  col5\na      1803.0     0  1803  10000    999  7964\nb      6890.0   -50  6890  10001   8888  4949\nc  10000000.0   100  4896  10002  77777  8726\nf  10000000.0   250  5737  10005    -28  9779"
     },
     "execution_count": 160,
     "metadata": {},
     "output_type": "execute_result"
    }
   ],
   "source": [
    "miss_df.fillna(value=10000000)"
   ]
  },
  {
   "cell_type": "markdown",
   "metadata": {},
   "source": [
    "# Reference\r\n",
    "\r\n",
    "- https://pandas.pydata.org/pandas-docs/stable/user_guide/10min.html#setting\r\n",
    "- https://pandas.pydata.org/pandas-docs/stable/user_guide/10min.html#missing-data\r\n",
    "- https://pandas.pydata.org/pandas-docs/stable/user_guide/dsintro.html#column-selection-addition-deletion\r\n",
    "- https://pandas.pydata.org/pandas-docs/stable/reference/api/pandas.DataFrame.drop.html\r\n",
    "- https://pandas.pydata.org/pandas-docs/stable/reference/api/pandas.DataFrame.dropna.html\r\n",
    "- https://pandas.pydata.org/pandas-docs/stable/reference/api/pandas.DataFrame.fillna.html"
   ]
  }
 ],
 "metadata": {
  "kernelspec": {
   "display_name": "Python 3.8.8 64-bit",
   "metadata": {
    "interpreter": {
     "hash": "910af126f78e4f70975a50f5d0344a29878143e0b01cc32c99ca6cf65dbefcc1"
    }
   },
   "name": "python3"
  },
  "language_info": {
   "codemirror_mode": {
    "name": "ipython",
    "version": 3
   },
   "file_extension": ".py",
   "mimetype": "text/x-python",
   "name": "python",
   "nbconvert_exporter": "python",
   "pygments_lexer": "ipython3",
   "version": "3.8.8"
  },
  "orig_nbformat": 2
 },
 "nbformat": 4,
 "nbformat_minor": 2
}