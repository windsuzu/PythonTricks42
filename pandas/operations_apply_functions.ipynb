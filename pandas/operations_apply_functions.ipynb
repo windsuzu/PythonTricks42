{
 "cells": [
  {
   "cell_type": "markdown",
   "metadata": {},
   "source": [
    "# Operations and Apply Functions"
   ]
  },
  {
   "cell_type": "code",
   "execution_count": 1,
   "metadata": {},
   "outputs": [],
   "source": [
    "import numpy as np\r\n",
    "import pandas as pd"
   ]
  },
  {
   "cell_type": "code",
   "execution_count": 2,
   "metadata": {},
   "outputs": [
    {
     "data": {
      "text/html": "<div>\n<style scoped>\n    .dataframe tbody tr th:only-of-type {\n        vertical-align: middle;\n    }\n\n    .dataframe tbody tr th {\n        vertical-align: top;\n    }\n\n    .dataframe thead th {\n        text-align: right;\n    }\n</style>\n<table border=\"1\" class=\"dataframe\">\n  <thead>\n    <tr style=\"text-align: right;\">\n      <th></th>\n      <th>A</th>\n      <th>B</th>\n      <th>C</th>\n      <th>D</th>\n    </tr>\n  </thead>\n  <tbody>\n    <tr>\n      <th>0</th>\n      <td>0.773956</td>\n      <td>0.438878</td>\n      <td>0.858598</td>\n      <td>0.697368</td>\n    </tr>\n    <tr>\n      <th>1</th>\n      <td>0.094177</td>\n      <td>0.975622</td>\n      <td>0.761140</td>\n      <td>0.786064</td>\n    </tr>\n    <tr>\n      <th>2</th>\n      <td>0.128114</td>\n      <td>0.450386</td>\n      <td>0.370798</td>\n      <td>0.926765</td>\n    </tr>\n    <tr>\n      <th>3</th>\n      <td>0.643865</td>\n      <td>0.822762</td>\n      <td>0.443414</td>\n      <td>0.227239</td>\n    </tr>\n    <tr>\n      <th>4</th>\n      <td>0.554585</td>\n      <td>0.063817</td>\n      <td>0.827631</td>\n      <td>0.631664</td>\n    </tr>\n  </tbody>\n</table>\n</div>",
      "text/plain": "          A         B         C         D\n0  0.773956  0.438878  0.858598  0.697368\n1  0.094177  0.975622  0.761140  0.786064\n2  0.128114  0.450386  0.370798  0.926765\n3  0.643865  0.822762  0.443414  0.227239\n4  0.554585  0.063817  0.827631  0.631664"
     },
     "execution_count": 2,
     "metadata": {},
     "output_type": "execute_result"
    }
   ],
   "source": [
    "df = pd.DataFrame(np.random.default_rng(42).random((5, 4)), columns=[\"A\", \"B\", \"C\", \"D\"])\r\n",
    "df"
   ]
  },
  {
   "cell_type": "code",
   "execution_count": 3,
   "metadata": {},
   "outputs": [
    {
     "data": {
      "text/html": "<div>\n<style scoped>\n    .dataframe tbody tr th:only-of-type {\n        vertical-align: middle;\n    }\n\n    .dataframe tbody tr th {\n        vertical-align: top;\n    }\n\n    .dataframe thead th {\n        text-align: right;\n    }\n</style>\n<table border=\"1\" class=\"dataframe\">\n  <thead>\n    <tr style=\"text-align: right;\">\n      <th></th>\n      <th>A</th>\n      <th>B</th>\n    </tr>\n  </thead>\n  <tbody>\n    <tr>\n      <th>0</th>\n      <td>0.652299</td>\n      <td>0.043775</td>\n    </tr>\n    <tr>\n      <th>1</th>\n      <td>0.020030</td>\n      <td>0.839213</td>\n    </tr>\n  </tbody>\n</table>\n</div>",
      "text/plain": "          A         B\n0  0.652299  0.043775\n1  0.020030  0.839213"
     },
     "execution_count": 3,
     "metadata": {},
     "output_type": "execute_result"
    }
   ],
   "source": [
    "df2 = pd.DataFrame(np.random.default_rng(43).random((2, 2)), columns=[\"A\", \"B\"])\r\n",
    "df2"
   ]
  },
  {
   "cell_type": "markdown",
   "metadata": {},
   "source": [
    "## Arithmetic Operation"
   ]
  },
  {
   "cell_type": "code",
   "execution_count": 4,
   "metadata": {},
   "outputs": [
    {
     "data": {
      "text/html": "<div>\n<style scoped>\n    .dataframe tbody tr th:only-of-type {\n        vertical-align: middle;\n    }\n\n    .dataframe tbody tr th {\n        vertical-align: top;\n    }\n\n    .dataframe thead th {\n        text-align: right;\n    }\n</style>\n<table border=\"1\" class=\"dataframe\">\n  <thead>\n    <tr style=\"text-align: right;\">\n      <th></th>\n      <th>A</th>\n      <th>B</th>\n      <th>C</th>\n      <th>D</th>\n    </tr>\n  </thead>\n  <tbody>\n    <tr>\n      <th>0</th>\n      <td>1.426255</td>\n      <td>0.482654</td>\n      <td>NaN</td>\n      <td>NaN</td>\n    </tr>\n    <tr>\n      <th>1</th>\n      <td>0.114207</td>\n      <td>1.814835</td>\n      <td>NaN</td>\n      <td>NaN</td>\n    </tr>\n    <tr>\n      <th>2</th>\n      <td>NaN</td>\n      <td>NaN</td>\n      <td>NaN</td>\n      <td>NaN</td>\n    </tr>\n    <tr>\n      <th>3</th>\n      <td>NaN</td>\n      <td>NaN</td>\n      <td>NaN</td>\n      <td>NaN</td>\n    </tr>\n    <tr>\n      <th>4</th>\n      <td>NaN</td>\n      <td>NaN</td>\n      <td>NaN</td>\n      <td>NaN</td>\n    </tr>\n  </tbody>\n</table>\n</div>",
      "text/plain": "          A         B   C   D\n0  1.426255  0.482654 NaN NaN\n1  0.114207  1.814835 NaN NaN\n2       NaN       NaN NaN NaN\n3       NaN       NaN NaN NaN\n4       NaN       NaN NaN NaN"
     },
     "execution_count": 4,
     "metadata": {},
     "output_type": "execute_result"
    }
   ],
   "source": [
    "df + df2"
   ]
  },
  {
   "cell_type": "code",
   "execution_count": 5,
   "metadata": {},
   "outputs": [
    {
     "data": {
      "text/html": "<div>\n<style scoped>\n    .dataframe tbody tr th:only-of-type {\n        vertical-align: middle;\n    }\n\n    .dataframe tbody tr th {\n        vertical-align: top;\n    }\n\n    .dataframe thead th {\n        text-align: right;\n    }\n</style>\n<table border=\"1\" class=\"dataframe\">\n  <thead>\n    <tr style=\"text-align: right;\">\n      <th></th>\n      <th>A</th>\n      <th>B</th>\n      <th>C</th>\n      <th>D</th>\n    </tr>\n  </thead>\n  <tbody>\n    <tr>\n      <th>0</th>\n      <td>0.000000</td>\n      <td>0.000000</td>\n      <td>0.000000</td>\n      <td>0.000000</td>\n    </tr>\n    <tr>\n      <th>1</th>\n      <td>-0.679779</td>\n      <td>0.536744</td>\n      <td>-0.097458</td>\n      <td>0.088696</td>\n    </tr>\n    <tr>\n      <th>2</th>\n      <td>-0.645842</td>\n      <td>0.011507</td>\n      <td>-0.487800</td>\n      <td>0.229397</td>\n    </tr>\n    <tr>\n      <th>3</th>\n      <td>-0.130091</td>\n      <td>0.383883</td>\n      <td>-0.415184</td>\n      <td>-0.470129</td>\n    </tr>\n    <tr>\n      <th>4</th>\n      <td>-0.219371</td>\n      <td>-0.375061</td>\n      <td>-0.030967</td>\n      <td>-0.065704</td>\n    </tr>\n  </tbody>\n</table>\n</div>",
      "text/plain": "          A         B         C         D\n0  0.000000  0.000000  0.000000  0.000000\n1 -0.679779  0.536744 -0.097458  0.088696\n2 -0.645842  0.011507 -0.487800  0.229397\n3 -0.130091  0.383883 -0.415184 -0.470129\n4 -0.219371 -0.375061 -0.030967 -0.065704"
     },
     "execution_count": 5,
     "metadata": {},
     "output_type": "execute_result"
    }
   ],
   "source": [
    "df - df.iloc[0]"
   ]
  },
  {
   "cell_type": "code",
   "execution_count": 6,
   "metadata": {},
   "outputs": [
    {
     "data": {
      "text/html": "<div>\n<style scoped>\n    .dataframe tbody tr th:only-of-type {\n        vertical-align: middle;\n    }\n\n    .dataframe tbody tr th {\n        vertical-align: top;\n    }\n\n    .dataframe thead th {\n        text-align: right;\n    }\n</style>\n<table border=\"1\" class=\"dataframe\">\n  <thead>\n    <tr style=\"text-align: right;\">\n      <th></th>\n      <th>A</th>\n      <th>B</th>\n      <th>C</th>\n      <th>D</th>\n    </tr>\n  </thead>\n  <tbody>\n    <tr>\n      <th>0</th>\n      <td>1.292063</td>\n      <td>2.278535</td>\n      <td>1.164690</td>\n      <td>1.433963</td>\n    </tr>\n    <tr>\n      <th>1</th>\n      <td>10.618265</td>\n      <td>1.024987</td>\n      <td>1.313819</td>\n      <td>1.272161</td>\n    </tr>\n    <tr>\n      <th>2</th>\n      <td>7.805571</td>\n      <td>2.220318</td>\n      <td>2.696886</td>\n      <td>1.079022</td>\n    </tr>\n    <tr>\n      <th>3</th>\n      <td>1.553120</td>\n      <td>1.215419</td>\n      <td>2.255228</td>\n      <td>4.400658</td>\n    </tr>\n    <tr>\n      <th>4</th>\n      <td>1.803151</td>\n      <td>15.669743</td>\n      <td>1.208268</td>\n      <td>1.583119</td>\n    </tr>\n  </tbody>\n</table>\n</div>",
      "text/plain": "           A          B         C         D\n0   1.292063   2.278535  1.164690  1.433963\n1  10.618265   1.024987  1.313819  1.272161\n2   7.805571   2.220318  2.696886  1.079022\n3   1.553120   1.215419  2.255228  4.400658\n4   1.803151  15.669743  1.208268  1.583119"
     },
     "execution_count": 6,
     "metadata": {},
     "output_type": "execute_result"
    }
   ],
   "source": [
    "1 / df"
   ]
  },
  {
   "cell_type": "markdown",
   "metadata": {},
   "source": [
    "## Numpy Function"
   ]
  },
  {
   "cell_type": "code",
   "execution_count": 50,
   "metadata": {},
   "outputs": [
    {
     "data": {
      "text/html": "<div>\n<style scoped>\n    .dataframe tbody tr th:only-of-type {\n        vertical-align: middle;\n    }\n\n    .dataframe tbody tr th {\n        vertical-align: top;\n    }\n\n    .dataframe thead th {\n        text-align: right;\n    }\n</style>\n<table border=\"1\" class=\"dataframe\">\n  <thead>\n    <tr style=\"text-align: right;\">\n      <th></th>\n      <th>A</th>\n      <th>B</th>\n      <th>C</th>\n      <th>D</th>\n    </tr>\n  </thead>\n  <tbody>\n    <tr>\n      <th>0</th>\n      <td>0.879748</td>\n      <td>0.662479</td>\n      <td>0.926606</td>\n      <td>0.835086</td>\n    </tr>\n    <tr>\n      <th>1</th>\n      <td>0.306883</td>\n      <td>0.987736</td>\n      <td>0.872433</td>\n      <td>0.886603</td>\n    </tr>\n    <tr>\n      <th>2</th>\n      <td>0.357930</td>\n      <td>0.671108</td>\n      <td>0.608932</td>\n      <td>0.962686</td>\n    </tr>\n    <tr>\n      <th>3</th>\n      <td>0.802412</td>\n      <td>0.907062</td>\n      <td>0.665894</td>\n      <td>0.476696</td>\n    </tr>\n    <tr>\n      <th>4</th>\n      <td>0.744704</td>\n      <td>0.252621</td>\n      <td>0.909742</td>\n      <td>0.794773</td>\n    </tr>\n  </tbody>\n</table>\n</div>",
      "text/plain": "          A         B         C         D\n0  0.879748  0.662479  0.926606  0.835086\n1  0.306883  0.987736  0.872433  0.886603\n2  0.357930  0.671108  0.608932  0.962686\n3  0.802412  0.907062  0.665894  0.476696\n4  0.744704  0.252621  0.909742  0.794773"
     },
     "execution_count": 50,
     "metadata": {},
     "output_type": "execute_result"
    }
   ],
   "source": [
    "np.sqrt(df)"
   ]
  },
  {
   "cell_type": "code",
   "execution_count": 51,
   "metadata": {},
   "outputs": [
    {
     "data": {
      "text/plain": "0    0.858598\n1    0.975622\n2    0.926765\n3    0.822762\n4    0.827631\ndtype: float64"
     },
     "execution_count": 51,
     "metadata": {},
     "output_type": "execute_result"
    }
   ],
   "source": [
    "np.max(df, axis=1)"
   ]
  },
  {
   "cell_type": "markdown",
   "metadata": {},
   "source": [
    "## Built-in Operations"
   ]
  },
  {
   "cell_type": "code",
   "execution_count": 9,
   "metadata": {},
   "outputs": [
    {
     "data": {
      "text/plain": "A    0.438939\nB    0.550293\nC    0.652316\nD    0.653820\ndtype: float64"
     },
     "execution_count": 9,
     "metadata": {},
     "output_type": "execute_result"
    }
   ],
   "source": [
    "df.mean()"
   ]
  },
  {
   "cell_type": "code",
   "execution_count": 10,
   "metadata": {},
   "outputs": [
    {
     "data": {
      "text/plain": "0    0.858598\n1    0.975622\n2    0.926765\n3    0.822762\n4    0.827631\ndtype: float64"
     },
     "execution_count": 10,
     "metadata": {},
     "output_type": "execute_result"
    }
   ],
   "source": [
    "df.max(axis=1)"
   ]
  },
  {
   "cell_type": "markdown",
   "metadata": {},
   "source": [
    "## Apply Function"
   ]
  },
  {
   "cell_type": "code",
   "execution_count": 11,
   "metadata": {},
   "outputs": [
    {
     "data": {
      "text/html": "<div>\n<style scoped>\n    .dataframe tbody tr th:only-of-type {\n        vertical-align: middle;\n    }\n\n    .dataframe tbody tr th {\n        vertical-align: top;\n    }\n\n    .dataframe thead th {\n        text-align: right;\n    }\n</style>\n<table border=\"1\" class=\"dataframe\">\n  <thead>\n    <tr style=\"text-align: right;\">\n      <th></th>\n      <th>A</th>\n      <th>B</th>\n      <th>C</th>\n      <th>D</th>\n    </tr>\n  </thead>\n  <tbody>\n    <tr>\n      <th>0</th>\n      <td>0.773956</td>\n      <td>1.212834</td>\n      <td>2.071432</td>\n      <td>2.768800</td>\n    </tr>\n    <tr>\n      <th>1</th>\n      <td>0.094177</td>\n      <td>1.069800</td>\n      <td>1.830939</td>\n      <td>2.617004</td>\n    </tr>\n    <tr>\n      <th>2</th>\n      <td>0.128114</td>\n      <td>0.578500</td>\n      <td>0.949298</td>\n      <td>1.876063</td>\n    </tr>\n    <tr>\n      <th>3</th>\n      <td>0.643865</td>\n      <td>1.466627</td>\n      <td>1.910041</td>\n      <td>2.137280</td>\n    </tr>\n    <tr>\n      <th>4</th>\n      <td>0.554585</td>\n      <td>0.618402</td>\n      <td>1.446033</td>\n      <td>2.077698</td>\n    </tr>\n  </tbody>\n</table>\n</div>",
      "text/plain": "          A         B         C         D\n0  0.773956  1.212834  2.071432  2.768800\n1  0.094177  1.069800  1.830939  2.617004\n2  0.128114  0.578500  0.949298  1.876063\n3  0.643865  1.466627  1.910041  2.137280\n4  0.554585  0.618402  1.446033  2.077698"
     },
     "execution_count": 11,
     "metadata": {},
     "output_type": "execute_result"
    }
   ],
   "source": [
    "df.apply(np.cumsum, axis=1)"
   ]
  },
  {
   "cell_type": "code",
   "execution_count": 12,
   "metadata": {},
   "outputs": [
    {
     "data": {
      "text/plain": "A    0.438939\nB    0.550293\nC    0.652316\nD    0.653820\ndtype: float64"
     },
     "execution_count": 12,
     "metadata": {},
     "output_type": "execute_result"
    }
   ],
   "source": [
    "df.apply(lambda x: x.sum() / x.size)"
   ]
  },
  {
   "cell_type": "markdown",
   "metadata": {},
   "source": [
    "# Series-Only Function"
   ]
  },
  {
   "cell_type": "code",
   "execution_count": 38,
   "metadata": {},
   "outputs": [],
   "source": [
    "s = pd.Series([\"a\", \"B-B\", \"CC-c\", \"ccc\"])"
   ]
  },
  {
   "cell_type": "code",
   "execution_count": 40,
   "metadata": {},
   "outputs": [
    {
     "data": {
      "text/plain": "ccc     1\nB-B     1\nCC-c    1\na       1\ndtype: int64"
     },
     "execution_count": 40,
     "metadata": {},
     "output_type": "execute_result"
    }
   ],
   "source": [
    "s.value_counts()"
   ]
  },
  {
   "cell_type": "code",
   "execution_count": 39,
   "metadata": {},
   "outputs": [
    {
     "data": {
      "text/plain": "0       A\n1     B-B\n2    CC-C\n3     CCC\ndtype: object"
     },
     "execution_count": 39,
     "metadata": {},
     "output_type": "execute_result"
    }
   ],
   "source": [
    "s.str.upper()"
   ]
  },
  {
   "cell_type": "code",
   "execution_count": 45,
   "metadata": {},
   "outputs": [
    {
     "data": {
      "text/plain": "0        [a]\n1     [B, B]\n2    [CC, c]\n3      [ccc]\ndtype: object"
     },
     "execution_count": 45,
     "metadata": {},
     "output_type": "execute_result"
    }
   ],
   "source": [
    "s.str.split(\"-\")"
   ]
  },
  {
   "cell_type": "code",
   "execution_count": 46,
   "metadata": {},
   "outputs": [
    {
     "data": {
      "text/plain": "0    a\n1    B\n2    C\n3    c\ndtype: object"
     },
     "execution_count": 46,
     "metadata": {},
     "output_type": "execute_result"
    }
   ],
   "source": [
    "s.str.get(0)"
   ]
  },
  {
   "cell_type": "code",
   "execution_count": 48,
   "metadata": {},
   "outputs": [
    {
     "data": {
      "text/plain": "0      a\n1      B\n2     CC\n3    ccc\ndtype: object"
     },
     "execution_count": 48,
     "metadata": {},
     "output_type": "execute_result"
    }
   ],
   "source": [
    "s.str.split(\"-\").str.get(0)"
   ]
  },
  {
   "cell_type": "markdown",
   "metadata": {},
   "source": [
    "# Reference\r\n",
    "\r\n",
    "- https://pandas.pydata.org/pandas-docs/stable/user_guide/10min.html#operations\r\n",
    "- https://pandas.pydata.org/pandas-docs/stable/user_guide/basics.html"
   ]
  }
 ],
 "metadata": {
  "kernelspec": {
   "display_name": "Python 3.8.8 64-bit",
   "metadata": {
    "interpreter": {
     "hash": "910af126f78e4f70975a50f5d0344a29878143e0b01cc32c99ca6cf65dbefcc1"
    }
   },
   "name": "python3"
  },
  "language_info": {
   "codemirror_mode": {
    "name": "ipython",
    "version": 3
   },
   "file_extension": ".py",
   "mimetype": "text/x-python",
   "name": "python",
   "nbconvert_exporter": "python",
   "pygments_lexer": "ipython3",
   "version": "3.8.8"
  },
  "orig_nbformat": 2
 },
 "nbformat": 4,
 "nbformat_minor": 2
}