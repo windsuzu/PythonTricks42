{
 "metadata": {
  "language_info": {
   "codemirror_mode": {
    "name": "ipython",
    "version": 3
   },
   "file_extension": ".py",
   "mimetype": "text/x-python",
   "name": "python",
   "nbconvert_exporter": "python",
   "pygments_lexer": "ipython3",
   "version": "3.8.8"
  },
  "orig_nbformat": 2,
  "kernelspec": {
   "name": "python3",
   "display_name": "Python 3.8.8 64-bit",
   "metadata": {
    "interpreter": {
     "hash": "8eb42abe1f0dffb85aebb3ee14b4ba74fd1032dc842041a955b8b09843039e6b"
    }
   }
  }
 },
 "nbformat": 4,
 "nbformat_minor": 2,
 "cells": [
  {
   "source": [
    "# Pandas\n",
    "\n",
    "There are two data types in `pandas` for displaying **sequence** or **tabular** datasets.\n",
    "\n",
    "- `Series` is used for **sequence** data, like `numpy 1d-arrays`\n",
    "- `DataFrame` is used for **tabular** data, like `numpy multidimensional arrays`"
   ],
   "cell_type": "markdown",
   "metadata": {}
  },
  {
   "cell_type": "code",
   "execution_count": 1,
   "metadata": {},
   "outputs": [],
   "source": [
    "import pandas as pd\n",
    "import numpy as np"
   ]
  },
  {
   "source": [
    "# Creation\n",
    "\n",
    "The first thing we need to know is how to create the instances of 2 data types."
   ],
   "cell_type": "markdown",
   "metadata": {}
  },
  {
   "source": [
    "## Series\n",
    "\n",
    "Here are three ways to create a `pd.Series`:\n",
    "\n",
    "1. from normal list\n",
    "2. from numpy array\n",
    "3. from dict\n",
    "4. from object (int, str, etc)"
   ],
   "cell_type": "markdown",
   "metadata": {}
  },
  {
   "cell_type": "code",
   "execution_count": 2,
   "metadata": {},
   "outputs": [
    {
     "output_type": "execute_result",
     "data": {
      "text/plain": [
       "0    1\n",
       "1    2\n",
       "2    3\n",
       "3    4\n",
       "4    5\n",
       "dtype: int64"
      ]
     },
     "metadata": {},
     "execution_count": 2
    }
   ],
   "source": [
    "pd.Series([1, 2, 3, 4, 5])"
   ]
  },
  {
   "cell_type": "code",
   "execution_count": 15,
   "metadata": {},
   "outputs": [
    {
     "output_type": "execute_result",
     "data": {
      "text/plain": [
       "a    1\n",
       "b    2\n",
       "c    3\n",
       "d    4\n",
       "e    5\n",
       "dtype: int32"
      ]
     },
     "metadata": {},
     "execution_count": 15
    }
   ],
   "source": [
    "pd.Series(np.arange(1, 6), index=list(\"abcde\"))"
   ]
  },
  {
   "cell_type": "code",
   "execution_count": 16,
   "metadata": {},
   "outputs": [
    {
     "output_type": "execute_result",
     "data": {
      "text/plain": [
       "a    100\n",
       "b     50\n",
       "c    120\n",
       "dtype: int64"
      ]
     },
     "metadata": {},
     "execution_count": 16
    }
   ],
   "source": [
    "dic = {\"a\": 100, \"b\": 50, \"c\": 120}\n",
    "pd.Series(dic)"
   ]
  },
  {
   "cell_type": "code",
   "execution_count": 19,
   "metadata": {},
   "outputs": [
    {
     "output_type": "execute_result",
     "data": {
      "text/plain": [
       "1    hi\n",
       "2    hi\n",
       "3    hi\n",
       "4    hi\n",
       "5    hi\n",
       "dtype: object"
      ]
     },
     "metadata": {},
     "execution_count": 19
    }
   ],
   "source": [
    "pd.Series(\"hi\", index=list(\"12345\"))"
   ]
  },
  {
   "source": [
    "## DataFrame\n",
    "\n"
   ],
   "cell_type": "markdown",
   "metadata": {}
  },
  {
   "cell_type": "code",
   "execution_count": null,
   "metadata": {},
   "outputs": [],
   "source": []
  },
  {
   "cell_type": "code",
   "execution_count": null,
   "metadata": {},
   "outputs": [],
   "source": []
  },
  {
   "source": [
    "# Viewing"
   ],
   "cell_type": "markdown",
   "metadata": {}
  },
  {
   "cell_type": "code",
   "execution_count": null,
   "metadata": {},
   "outputs": [],
   "source": []
  },
  {
   "cell_type": "code",
   "execution_count": null,
   "metadata": {},
   "outputs": [],
   "source": []
  },
  {
   "source": [
    "# Reference\n",
    "\n",
    "- https://pandas.pydata.org/pandas-docs/stable/user_guide/10min.html#object-creation\n",
    "- https://pandas.pydata.org/pandas-docs/stable/user_guide/dsintro.html#intro-to-data-structures"
   ],
   "cell_type": "markdown",
   "metadata": {}
  }
 ]
}