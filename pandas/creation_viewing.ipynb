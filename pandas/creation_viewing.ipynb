{
 "metadata": {
  "language_info": {
   "codemirror_mode": {
    "name": "ipython",
    "version": 3
   },
   "file_extension": ".py",
   "mimetype": "text/x-python",
   "name": "python",
   "nbconvert_exporter": "python",
   "pygments_lexer": "ipython3",
   "version": "3.7.7-final"
  },
  "orig_nbformat": 2,
  "kernelspec": {
   "name": "python3",
   "display_name": "Python 3",
   "language": "python"
  }
 },
 "nbformat": 4,
 "nbformat_minor": 2,
 "cells": [
  {
   "source": [
    "# Creation and Viewing\n",
    "\n",
    "There are two data types in `pandas` for displaying **sequence** or **tabular** datasets.\n",
    "\n",
    "- `Series` is used for **sequence** (one-dimensional) data, like `numpy 1d-arrays`\n",
    "- `DataFrame` is used for **tabular** (two-dimensional) data, like `numpy 2d-arrays`"
   ],
   "cell_type": "markdown",
   "metadata": {}
  },
  {
   "cell_type": "code",
   "execution_count": 1,
   "metadata": {},
   "outputs": [],
   "source": [
    "import pandas as pd\n",
    "import numpy as np"
   ]
  },
  {
   "source": [
    "# Creation\n",
    "\n",
    "The first thing we need to know is how to create the instances of 2 data types."
   ],
   "cell_type": "markdown",
   "metadata": {}
  },
  {
   "source": [
    "## Series\n",
    "\n",
    "Here are four ways to create a `pd.Series`:\n",
    "\n",
    "1. from a normal list\n",
    "2. from a numpy array\n",
    "3. from dict\n",
    "4. from one object (int, str, etc)"
   ],
   "cell_type": "markdown",
   "metadata": {}
  },
  {
   "cell_type": "code",
   "execution_count": 2,
   "metadata": {},
   "outputs": [
    {
     "output_type": "execute_result",
     "data": {
      "text/plain": [
       "0    1\n",
       "1    2\n",
       "2    3\n",
       "3    4\n",
       "4    5\n",
       "dtype: int64"
      ]
     },
     "metadata": {},
     "execution_count": 2
    }
   ],
   "source": [
    "pd.Series([1, 2, 3, 4, 5])"
   ]
  },
  {
   "cell_type": "code",
   "execution_count": 3,
   "metadata": {},
   "outputs": [
    {
     "output_type": "execute_result",
     "data": {
      "text/plain": [
       "a    1\n",
       "b    2\n",
       "c    3\n",
       "d    4\n",
       "e    5\n",
       "dtype: int32"
      ]
     },
     "metadata": {},
     "execution_count": 3
    }
   ],
   "source": [
    "pd.Series(np.arange(1, 6), index=list(\"abcde\"))"
   ]
  },
  {
   "cell_type": "code",
   "execution_count": 4,
   "metadata": {},
   "outputs": [
    {
     "output_type": "execute_result",
     "data": {
      "text/plain": [
       "a    100\n",
       "b     50\n",
       "c    120\n",
       "dtype: int64"
      ]
     },
     "metadata": {},
     "execution_count": 4
    }
   ],
   "source": [
    "dic = {\"a\": 100, \"b\": 50, \"c\": 120}\n",
    "pd.Series(dic)"
   ]
  },
  {
   "cell_type": "code",
   "execution_count": 5,
   "metadata": {},
   "outputs": [
    {
     "output_type": "execute_result",
     "data": {
      "text/plain": [
       "1    hi\n",
       "2    hi\n",
       "3    hi\n",
       "4    hi\n",
       "5    hi\n",
       "dtype: object"
      ]
     },
     "metadata": {},
     "execution_count": 5
    }
   ],
   "source": [
    "pd.Series(\"hi\", index=list(\"12345\"))"
   ]
  },
  {
   "source": [
    "## DataFrame\n",
    "\n",
    "There are several ways to initialize a `DataFrame`, and with the data, you can optionally pass `index` (row) or `columns` (column) arguments.\n",
    "\n",
    "Here are many kinds of input that DataFrame accepts:\n",
    "\n",
    "- Dict of 1d arrays, Series (**create the data column-wise**)\n",
    "- multiple dicts (**create the data row-wise**)\n",
    "- 2d arrays\n",
    "- NamedTuples\n",
    "- Another DataFrame\n"
   ],
   "cell_type": "markdown",
   "metadata": {}
  },
  {
   "cell_type": "code",
   "execution_count": 57,
   "metadata": {},
   "outputs": [
    {
     "output_type": "execute_result",
     "data": {
      "text/plain": [
       "   col_1  col_2  col_3\n",
       "a      1      1    1.0\n",
       "b      2      2    2.0\n",
       "c      3      3    3.0\n",
       "d      4      4    NaN\n",
       "e      5      5    NaN"
      ],
      "text/html": "<div>\n<style scoped>\n    .dataframe tbody tr th:only-of-type {\n        vertical-align: middle;\n    }\n\n    .dataframe tbody tr th {\n        vertical-align: top;\n    }\n\n    .dataframe thead th {\n        text-align: right;\n    }\n</style>\n<table border=\"1\" class=\"dataframe\">\n  <thead>\n    <tr style=\"text-align: right;\">\n      <th></th>\n      <th>col_1</th>\n      <th>col_2</th>\n      <th>col_3</th>\n    </tr>\n  </thead>\n  <tbody>\n    <tr>\n      <th>a</th>\n      <td>1</td>\n      <td>1</td>\n      <td>1.0</td>\n    </tr>\n    <tr>\n      <th>b</th>\n      <td>2</td>\n      <td>2</td>\n      <td>2.0</td>\n    </tr>\n    <tr>\n      <th>c</th>\n      <td>3</td>\n      <td>3</td>\n      <td>3.0</td>\n    </tr>\n    <tr>\n      <th>d</th>\n      <td>4</td>\n      <td>4</td>\n      <td>NaN</td>\n    </tr>\n    <tr>\n      <th>e</th>\n      <td>5</td>\n      <td>5</td>\n      <td>NaN</td>\n    </tr>\n  </tbody>\n</table>\n</div>"
     },
     "metadata": {},
     "execution_count": 57
    }
   ],
   "source": [
    "pd.DataFrame({\n",
    "    \"col_1\": [1, 2, 3, 4, 5],\n",
    "    \"col_2\": np.arange(1, 6),\n",
    "    \"col_3\": pd.Series(np.arange(1, 7), index=list(\"abc123\")),\n",
    "}, index=list(\"abcde\"))"
   ]
  },
  {
   "cell_type": "code",
   "execution_count": 58,
   "metadata": {},
   "outputs": [
    {
     "output_type": "execute_result",
     "data": {
      "text/plain": [
       "           a    b\n",
       "first    1.0    2\n",
       "second   NaN   10\n",
       "third   55.0  489"
      ],
      "text/html": "<div>\n<style scoped>\n    .dataframe tbody tr th:only-of-type {\n        vertical-align: middle;\n    }\n\n    .dataframe tbody tr th {\n        vertical-align: top;\n    }\n\n    .dataframe thead th {\n        text-align: right;\n    }\n</style>\n<table border=\"1\" class=\"dataframe\">\n  <thead>\n    <tr style=\"text-align: right;\">\n      <th></th>\n      <th>a</th>\n      <th>b</th>\n    </tr>\n  </thead>\n  <tbody>\n    <tr>\n      <th>first</th>\n      <td>1.0</td>\n      <td>2</td>\n    </tr>\n    <tr>\n      <th>second</th>\n      <td>NaN</td>\n      <td>10</td>\n    </tr>\n    <tr>\n      <th>third</th>\n      <td>55.0</td>\n      <td>489</td>\n    </tr>\n  </tbody>\n</table>\n</div>"
     },
     "metadata": {},
     "execution_count": 58
    }
   ],
   "source": [
    "pd.DataFrame(\n",
    "    [\n",
    "        {\"a\": 1, \"b\": 2},\n",
    "        {\"b\": 10, \"c\": 5},\n",
    "        {\"a\": 55, \"b\": 489, \"c\": 32, \"d\": 590},\n",
    "    ],\n",
    "    index=[\"first\", \"second\", \"third\"],\n",
    "    columns=list(\"ab\")\n",
    ")"
   ]
  },
  {
   "cell_type": "code",
   "execution_count": 59,
   "metadata": {},
   "outputs": [
    {
     "output_type": "execute_result",
     "data": {
      "text/plain": [
       "            a  b  c  d  e\n",
       "2020-01-01  0  1  2  3  4\n",
       "2020-01-02  5  6  7  8  9"
      ],
      "text/html": "<div>\n<style scoped>\n    .dataframe tbody tr th:only-of-type {\n        vertical-align: middle;\n    }\n\n    .dataframe tbody tr th {\n        vertical-align: top;\n    }\n\n    .dataframe thead th {\n        text-align: right;\n    }\n</style>\n<table border=\"1\" class=\"dataframe\">\n  <thead>\n    <tr style=\"text-align: right;\">\n      <th></th>\n      <th>a</th>\n      <th>b</th>\n      <th>c</th>\n      <th>d</th>\n      <th>e</th>\n    </tr>\n  </thead>\n  <tbody>\n    <tr>\n      <th>2020-01-01</th>\n      <td>0</td>\n      <td>1</td>\n      <td>2</td>\n      <td>3</td>\n      <td>4</td>\n    </tr>\n    <tr>\n      <th>2020-01-02</th>\n      <td>5</td>\n      <td>6</td>\n      <td>7</td>\n      <td>8</td>\n      <td>9</td>\n    </tr>\n  </tbody>\n</table>\n</div>"
     },
     "metadata": {},
     "execution_count": 59
    }
   ],
   "source": [
    "dates = pd.date_range(\"20200101\", periods=2)\n",
    "pd.DataFrame(\n",
    "    np.arange(10).reshape(2, 5),\n",
    "    # [[0,1,2,3,4], [5,6,7,8,9]]\n",
    "    index=dates,\n",
    "    columns=list(\"abcde\"))"
   ]
  },
  {
   "cell_type": "code",
   "execution_count": 60,
   "metadata": {},
   "outputs": [
    {
     "output_type": "execute_result",
     "data": {
      "text/plain": [
       "       a              b      \n",
       "       b    a    c    a     b\n",
       "A B  1.0  4.0  5.0  8.0  10.0\n",
       "  C  2.0  3.0  6.0  7.0   NaN\n",
       "  D  NaN  NaN  NaN  NaN   9.0"
      ],
      "text/html": "<div>\n<style scoped>\n    .dataframe tbody tr th:only-of-type {\n        vertical-align: middle;\n    }\n\n    .dataframe tbody tr th {\n        vertical-align: top;\n    }\n\n    .dataframe thead tr th {\n        text-align: left;\n    }\n</style>\n<table border=\"1\" class=\"dataframe\">\n  <thead>\n    <tr>\n      <th></th>\n      <th></th>\n      <th colspan=\"3\" halign=\"left\">a</th>\n      <th colspan=\"2\" halign=\"left\">b</th>\n    </tr>\n    <tr>\n      <th></th>\n      <th></th>\n      <th>b</th>\n      <th>a</th>\n      <th>c</th>\n      <th>a</th>\n      <th>b</th>\n    </tr>\n  </thead>\n  <tbody>\n    <tr>\n      <th rowspan=\"3\" valign=\"top\">A</th>\n      <th>B</th>\n      <td>1.0</td>\n      <td>4.0</td>\n      <td>5.0</td>\n      <td>8.0</td>\n      <td>10.0</td>\n    </tr>\n    <tr>\n      <th>C</th>\n      <td>2.0</td>\n      <td>3.0</td>\n      <td>6.0</td>\n      <td>7.0</td>\n      <td>NaN</td>\n    </tr>\n    <tr>\n      <th>D</th>\n      <td>NaN</td>\n      <td>NaN</td>\n      <td>NaN</td>\n      <td>NaN</td>\n      <td>9.0</td>\n    </tr>\n  </tbody>\n</table>\n</div>"
     },
     "metadata": {},
     "execution_count": 60
    }
   ],
   "source": [
    "# Multiindexed DataFrame\n",
    "pd.DataFrame({\n",
    "     (\"a\", \"b\"): {(\"A\", \"B\"): 1, (\"A\", \"C\"): 2},\n",
    "     (\"a\", \"a\"): {(\"A\", \"C\"): 3, (\"A\", \"B\"): 4},\n",
    "     (\"a\", \"c\"): {(\"A\", \"B\"): 5, (\"A\", \"C\"): 6},\n",
    "     (\"b\", \"a\"): {(\"A\", \"C\"): 7, (\"A\", \"B\"): 8},\n",
    "     (\"b\", \"b\"): {(\"A\", \"D\"): 9, (\"A\", \"B\"): 10},\n",
    "})"
   ]
  },
  {
   "source": [
    "# Viewing\n",
    "\n",
    "You can find the functionalities from the name of the methods below, and they are easy to understand.\n",
    "\n",
    "- `head(i)`: return the first i rows from the DataFrame\n",
    "- `tail(i)`: return the last i rows from the DataFrame\n",
    "- `df.index`: return the list of index from the DataFrame\n",
    "- `df.columns`: return the list of columns from the DataFrame\n",
    "- `to_numpy()`: return the numpy array from the DataFrame\n",
    "- `sort_index()`: return a copy of DataFrame with sorted index\n",
    "- `sort_values(by=column_name)`: return a copy of DataFrame with sorted column"
   ],
   "cell_type": "markdown",
   "metadata": {}
  },
  {
   "cell_type": "code",
   "execution_count": 87,
   "metadata": {},
   "outputs": [],
   "source": [
    "df = pd.DataFrame({\n",
    "    \"col_1\": pd.Series([1,2,3,4], index=list(\"abcd\")),\n",
    "    \"col_2\": np.arange(10, 0, -1),\n",
    "    \"col_3\": np.random.default_rng(42).integers(0,1000,10)\n",
    "}, index=list(\"abcdefghij\"))"
   ]
  },
  {
   "cell_type": "code",
   "execution_count": 88,
   "metadata": {},
   "outputs": [
    {
     "output_type": "execute_result",
     "data": {
      "text/plain": [
       "   col_1  col_2  col_3\n",
       "a    1.0     10     89\n",
       "b    2.0      9    773"
      ],
      "text/html": "<div>\n<style scoped>\n    .dataframe tbody tr th:only-of-type {\n        vertical-align: middle;\n    }\n\n    .dataframe tbody tr th {\n        vertical-align: top;\n    }\n\n    .dataframe thead th {\n        text-align: right;\n    }\n</style>\n<table border=\"1\" class=\"dataframe\">\n  <thead>\n    <tr style=\"text-align: right;\">\n      <th></th>\n      <th>col_1</th>\n      <th>col_2</th>\n      <th>col_3</th>\n    </tr>\n  </thead>\n  <tbody>\n    <tr>\n      <th>a</th>\n      <td>1.0</td>\n      <td>10</td>\n      <td>89</td>\n    </tr>\n    <tr>\n      <th>b</th>\n      <td>2.0</td>\n      <td>9</td>\n      <td>773</td>\n    </tr>\n  </tbody>\n</table>\n</div>"
     },
     "metadata": {},
     "execution_count": 88
    }
   ],
   "source": [
    "df.head(2)"
   ]
  },
  {
   "cell_type": "code",
   "execution_count": 89,
   "metadata": {},
   "outputs": [
    {
     "output_type": "execute_result",
     "data": {
      "text/plain": [
       "   col_1  col_2  col_3\n",
       "h    NaN      3    697\n",
       "i    NaN      2    201\n",
       "j    NaN      1     94"
      ],
      "text/html": "<div>\n<style scoped>\n    .dataframe tbody tr th:only-of-type {\n        vertical-align: middle;\n    }\n\n    .dataframe tbody tr th {\n        vertical-align: top;\n    }\n\n    .dataframe thead th {\n        text-align: right;\n    }\n</style>\n<table border=\"1\" class=\"dataframe\">\n  <thead>\n    <tr style=\"text-align: right;\">\n      <th></th>\n      <th>col_1</th>\n      <th>col_2</th>\n      <th>col_3</th>\n    </tr>\n  </thead>\n  <tbody>\n    <tr>\n      <th>h</th>\n      <td>NaN</td>\n      <td>3</td>\n      <td>697</td>\n    </tr>\n    <tr>\n      <th>i</th>\n      <td>NaN</td>\n      <td>2</td>\n      <td>201</td>\n    </tr>\n    <tr>\n      <th>j</th>\n      <td>NaN</td>\n      <td>1</td>\n      <td>94</td>\n    </tr>\n  </tbody>\n</table>\n</div>"
     },
     "metadata": {},
     "execution_count": 89
    }
   ],
   "source": [
    "df.tail(3)"
   ]
  },
  {
   "cell_type": "code",
   "execution_count": 101,
   "metadata": {},
   "outputs": [
    {
     "output_type": "stream",
     "name": "stdout",
     "text": [
      "Index(['a', 'b', 'c', 'd', 'e', 'f', 'g', 'h', 'i', 'j'], dtype='object')\nIndex(['col_1', 'col_2', 'col_3'], dtype='object')\n"
     ]
    }
   ],
   "source": [
    "print(df.index)\n",
    "print(df.columns)"
   ]
  },
  {
   "cell_type": "code",
   "execution_count": 91,
   "metadata": {},
   "outputs": [
    {
     "output_type": "execute_result",
     "data": {
      "text/plain": [
       "array([[  1.,  10.,  89.],\n",
       "       [  2.,   9., 773.],\n",
       "       [  3.,   8., 654.],\n",
       "       [  4.,   7., 438.],\n",
       "       [ nan,   6., 433.],\n",
       "       [ nan,   5., 858.],\n",
       "       [ nan,   4.,  85.],\n",
       "       [ nan,   3., 697.],\n",
       "       [ nan,   2., 201.],\n",
       "       [ nan,   1.,  94.]])"
      ]
     },
     "metadata": {},
     "execution_count": 91
    }
   ],
   "source": [
    "df.to_numpy()"
   ]
  },
  {
   "cell_type": "code",
   "execution_count": 95,
   "metadata": {},
   "outputs": [
    {
     "output_type": "execute_result",
     "data": {
      "text/plain": [
       "   col_1  col_2  col_3\n",
       "a    1.0     10     89\n",
       "b    2.0      9    773\n",
       "c    3.0      8    654\n",
       "d    4.0      7    438\n",
       "e    NaN      6    433\n",
       "f    NaN      5    858\n",
       "g    NaN      4     85\n",
       "h    NaN      3    697\n",
       "i    NaN      2    201\n",
       "j    NaN      1     94"
      ],
      "text/html": "<div>\n<style scoped>\n    .dataframe tbody tr th:only-of-type {\n        vertical-align: middle;\n    }\n\n    .dataframe tbody tr th {\n        vertical-align: top;\n    }\n\n    .dataframe thead th {\n        text-align: right;\n    }\n</style>\n<table border=\"1\" class=\"dataframe\">\n  <thead>\n    <tr style=\"text-align: right;\">\n      <th></th>\n      <th>col_1</th>\n      <th>col_2</th>\n      <th>col_3</th>\n    </tr>\n  </thead>\n  <tbody>\n    <tr>\n      <th>a</th>\n      <td>1.0</td>\n      <td>10</td>\n      <td>89</td>\n    </tr>\n    <tr>\n      <th>b</th>\n      <td>2.0</td>\n      <td>9</td>\n      <td>773</td>\n    </tr>\n    <tr>\n      <th>c</th>\n      <td>3.0</td>\n      <td>8</td>\n      <td>654</td>\n    </tr>\n    <tr>\n      <th>d</th>\n      <td>4.0</td>\n      <td>7</td>\n      <td>438</td>\n    </tr>\n    <tr>\n      <th>e</th>\n      <td>NaN</td>\n      <td>6</td>\n      <td>433</td>\n    </tr>\n    <tr>\n      <th>f</th>\n      <td>NaN</td>\n      <td>5</td>\n      <td>858</td>\n    </tr>\n    <tr>\n      <th>g</th>\n      <td>NaN</td>\n      <td>4</td>\n      <td>85</td>\n    </tr>\n    <tr>\n      <th>h</th>\n      <td>NaN</td>\n      <td>3</td>\n      <td>697</td>\n    </tr>\n    <tr>\n      <th>i</th>\n      <td>NaN</td>\n      <td>2</td>\n      <td>201</td>\n    </tr>\n    <tr>\n      <th>j</th>\n      <td>NaN</td>\n      <td>1</td>\n      <td>94</td>\n    </tr>\n  </tbody>\n</table>\n</div>"
     },
     "metadata": {},
     "execution_count": 95
    }
   ],
   "source": [
    "df.sort_index()"
   ]
  },
  {
   "cell_type": "code",
   "execution_count": 96,
   "metadata": {},
   "outputs": [
    {
     "output_type": "execute_result",
     "data": {
      "text/plain": [
       "   col_1  col_2  col_3\n",
       "g    NaN      4     85\n",
       "a    1.0     10     89\n",
       "j    NaN      1     94\n",
       "i    NaN      2    201\n",
       "e    NaN      6    433\n",
       "d    4.0      7    438\n",
       "c    3.0      8    654\n",
       "h    NaN      3    697\n",
       "b    2.0      9    773\n",
       "f    NaN      5    858"
      ],
      "text/html": "<div>\n<style scoped>\n    .dataframe tbody tr th:only-of-type {\n        vertical-align: middle;\n    }\n\n    .dataframe tbody tr th {\n        vertical-align: top;\n    }\n\n    .dataframe thead th {\n        text-align: right;\n    }\n</style>\n<table border=\"1\" class=\"dataframe\">\n  <thead>\n    <tr style=\"text-align: right;\">\n      <th></th>\n      <th>col_1</th>\n      <th>col_2</th>\n      <th>col_3</th>\n    </tr>\n  </thead>\n  <tbody>\n    <tr>\n      <th>g</th>\n      <td>NaN</td>\n      <td>4</td>\n      <td>85</td>\n    </tr>\n    <tr>\n      <th>a</th>\n      <td>1.0</td>\n      <td>10</td>\n      <td>89</td>\n    </tr>\n    <tr>\n      <th>j</th>\n      <td>NaN</td>\n      <td>1</td>\n      <td>94</td>\n    </tr>\n    <tr>\n      <th>i</th>\n      <td>NaN</td>\n      <td>2</td>\n      <td>201</td>\n    </tr>\n    <tr>\n      <th>e</th>\n      <td>NaN</td>\n      <td>6</td>\n      <td>433</td>\n    </tr>\n    <tr>\n      <th>d</th>\n      <td>4.0</td>\n      <td>7</td>\n      <td>438</td>\n    </tr>\n    <tr>\n      <th>c</th>\n      <td>3.0</td>\n      <td>8</td>\n      <td>654</td>\n    </tr>\n    <tr>\n      <th>h</th>\n      <td>NaN</td>\n      <td>3</td>\n      <td>697</td>\n    </tr>\n    <tr>\n      <th>b</th>\n      <td>2.0</td>\n      <td>9</td>\n      <td>773</td>\n    </tr>\n    <tr>\n      <th>f</th>\n      <td>NaN</td>\n      <td>5</td>\n      <td>858</td>\n    </tr>\n  </tbody>\n</table>\n</div>"
     },
     "metadata": {},
     "execution_count": 96
    }
   ],
   "source": [
    "df.sort_values(\"col_3\")"
   ]
  },
  {
   "source": [
    "# Reference\n",
    "\n",
    "- https://pandas.pydata.org/pandas-docs/stable/user_guide/10min.html#object-creation\n",
    "- https://pandas.pydata.org/pandas-docs/stable/user_guide/dsintro.html#intro-to-data-structures"
   ],
   "cell_type": "markdown",
   "metadata": {}
  }
 ]
}